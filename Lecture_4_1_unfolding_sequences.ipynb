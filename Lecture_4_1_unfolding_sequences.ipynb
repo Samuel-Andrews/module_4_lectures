{
 "cells": [
  {
   "cell_type": "markdown",
   "metadata": {},
   "source": [
    "# Lecture 4.1 - Unfolding Sequences\n",
    "\n",
    "In this lecture, we will cover one more method for processing sequences: unfolding sequences.\n",
    "\n",
    "Out primary goal in this module is applying what we have learned about regular expressions and processing sequences to the cleaning of messy text files.  Unfolding sequences is an important and necessary skill when performing this task.\n"
   ]
  },
  {
   "cell_type": "markdown",
   "metadata": {},
   "source": [
    "\n",
    "## Unfolding a sequence is like peeling an onion\n",
    "\n",
    "<img src=\"https://luminexusa.org/wp-content/uploads/bfi_thumb/onion-n2fhsqcdk8a1irebz8ua3d5ne782hyz8xa8ek3jph4.jpg\" width=\"400\"/>\n",
    "\n",
    "1. Pull off a layer at a time.\n",
    "2. We don't know how many layers before processing"
   ]
  },
  {
   "cell_type": "markdown",
   "metadata": {},
   "source": [
    "## How to unfold an onion recursively\n",
    "\n",
    "<img src=\"./img/unfold_the_onion.png\" width=\"800\"/>"
   ]
  },
  {
   "cell_type": "markdown",
   "metadata": {},
   "source": [
    "## How to unfold an onion recursively\n",
    "\n",
    "<img src=\"./img/unfold_the_onion_1.png\" width=\"800\"/>"
   ]
  },
  {
   "cell_type": "markdown",
   "metadata": {},
   "source": [
    "## How to unfold an onion recursively\n",
    "\n",
    "<img src=\"./img/unfold_the_onion_2.png\" width=\"800\"/>"
   ]
  },
  {
   "cell_type": "markdown",
   "metadata": {},
   "source": [
    "## How to unfold an onion recursively\n",
    "\n",
    "<img src=\"./img/unfold_the_onion_3.png\" width=\"800\"/>"
   ]
  },
  {
   "cell_type": "markdown",
   "metadata": {},
   "source": [
    "<h2> <font color=\"red\"> Exercise 4.1.1 </font> </h2>\n",
    "\n",
    "Please answer each of the following questions."
   ]
  },
  {
   "cell_type": "markdown",
   "metadata": {},
   "source": [
    "#### Question: Why do we need to use a `while` loop?"
   ]
  },
  {
   "cell_type": "markdown",
   "metadata": {},
   "source": [
    "**We need to do a task an unknon number of times until a task is finished, leaving it as our only practical option** <font color=\"orange\"> <b>  </b> </font>"
   ]
  },
  {
   "cell_type": "markdown",
   "metadata": {},
   "source": [
    "#### Question: How do we know when to stop?"
   ]
  },
  {
   "cell_type": "markdown",
   "metadata": {},
   "source": [
    "**After every iteration, check to see if the container is empty (is there any onion left) and stop when it is. This would probably take the form of an if statement.** <font color=\"orange\"> <b>  </b> </font>"
   ]
  },
  {
   "cell_type": "markdown",
   "metadata": {},
   "source": [
    "#### Question: How do we know it *will* stop?"
   ]
  },
  {
   "cell_type": "markdown",
   "metadata": {},
   "source": [
    "**Assuming the logic is sound, we know it will stop eventually because there cannont be an infinite number of layers (Onions can only be peeled so many times).** <font color=\"orange\"> <b> ?? </b> </font>"
   ]
  },
  {
   "cell_type": "markdown",
   "metadata": {},
   "source": [
    "## Example - Splitting a string on spaces\n",
    "\n",
    "When learning a new process, it is often useful to recreate existing functions to help us understand the mechanics involved.  In this exercise, we will split a string on spaces *without* using the `split` method.  Instead we will use a `while` loop to unfold the string."
   ]
  },
  {
   "cell_type": "code",
   "execution_count": 3,
   "metadata": {},
   "outputs": [],
   "source": [
    "example_quote = \"Bad programmers worry about code. Good programmers worry about data structures and their relationships.\""
   ]
  },
  {
   "cell_type": "markdown",
   "metadata": {},
   "source": [
    "### Step 1 - Create the `get_layer` and `get_remaining` functions"
   ]
  },
  {
   "cell_type": "markdown",
   "metadata": {},
   "source": [
    "#### Finding the split location"
   ]
  },
  {
   "cell_type": "code",
   "execution_count": 4,
   "metadata": {},
   "outputs": [
    {
     "name": "stdout",
     "output_type": "stream",
     "text": [
      "Help on built-in function find:\n",
      "\n",
      "find(...) method of builtins.str instance\n",
      "    S.find(sub[, start[, end]]) -> int\n",
      "    \n",
      "    Return the lowest index in S where substring sub is found,\n",
      "    such that sub is contained within S[start:end].  Optional\n",
      "    arguments start and end are interpreted as in slice notation.\n",
      "    \n",
      "    Return -1 on failure.\n",
      "\n"
     ]
    }
   ],
   "source": [
    "help(example_quote.find)"
   ]
  },
  {
   "cell_type": "code",
   "execution_count": 17,
   "metadata": {},
   "outputs": [
    {
     "data": {
      "text/plain": [
       "3"
      ]
     },
     "execution_count": 17,
     "metadata": {},
     "output_type": "execute_result"
    }
   ],
   "source": [
    "example_quote.find(' ')"
   ]
  },
  {
   "cell_type": "markdown",
   "metadata": {},
   "source": [
    "#### Building `get_layer`"
   ]
  },
  {
   "cell_type": "code",
   "execution_count": 8,
   "metadata": {},
   "outputs": [
    {
     "data": {
      "text/plain": [
       "'Bad'"
      ]
     },
     "execution_count": 8,
     "metadata": {},
     "output_type": "execute_result"
    }
   ],
   "source": [
    "first_layer = example_quote[:example_quote.find(' ')]\n",
    "first_layer"
   ]
  },
  {
   "cell_type": "code",
   "execution_count": 18,
   "metadata": {},
   "outputs": [
    {
     "data": {
      "text/plain": [
       "'Bad'"
      ]
     },
     "execution_count": 18,
     "metadata": {},
     "output_type": "execute_result"
    }
   ],
   "source": [
    "get_layer = lambda s: s[:s.find(' ')]\n",
    "get_layer(example_quote)"
   ]
  },
  {
   "cell_type": "markdown",
   "metadata": {},
   "source": [
    "#### Building `get_remaining`"
   ]
  },
  {
   "cell_type": "code",
   "execution_count": 11,
   "metadata": {},
   "outputs": [
    {
     "data": {
      "text/plain": [
       "'programmers worry about code. Good programmers worry about data structures and their relationships.'"
      ]
     },
     "execution_count": 11,
     "metadata": {},
     "output_type": "execute_result"
    }
   ],
   "source": [
    "remaining = example_quote[example_quote.find(' ') + 1:]\n",
    "remaining"
   ]
  },
  {
   "cell_type": "code",
   "execution_count": 51,
   "metadata": {},
   "outputs": [
    {
     "data": {
      "text/plain": [
       "'programmers worry about code. Good programmers worry about data structures and their relationships.'"
      ]
     },
     "execution_count": 51,
     "metadata": {},
     "output_type": "execute_result"
    }
   ],
   "source": [
    "get_remaining = lambda s: s[s.find(' ') + 1:]\n",
    "get_remaining(example_quote)"
   ]
  },
  {
   "cell_type": "markdown",
   "metadata": {},
   "source": [
    "#### Building `stop_condition`"
   ]
  },
  {
   "cell_type": "code",
   "execution_count": 20,
   "metadata": {},
   "outputs": [],
   "source": [
    "stop_condition = lambda s: len(s) == 0"
   ]
  },
  {
   "cell_type": "markdown",
   "metadata": {},
   "source": [
    "### Step 2: Set the initial conditions"
   ]
  },
  {
   "cell_type": "code",
   "execution_count": 27,
   "metadata": {},
   "outputs": [
    {
     "data": {
      "text/plain": [
       "([],\n",
       " 'Bad programmers worry about code. Good programmers worry about data structures and their relationships.')"
      ]
     },
     "execution_count": 27,
     "metadata": {},
     "output_type": "execute_result"
    }
   ],
   "source": [
    "new_seq = []\n",
    "remaining_layers = example_quote\n",
    "new_seq, remaining_layers"
   ]
  },
  {
   "cell_type": "markdown",
   "metadata": {},
   "source": [
    "#### Step 3a: Test out the iteration"
   ]
  },
  {
   "cell_type": "code",
   "execution_count": 28,
   "metadata": {},
   "outputs": [
    {
     "data": {
      "text/plain": [
       "(['Bad'],\n",
       " 'programmers worry about code. Good programmers worry about data structures and their relationships.')"
      ]
     },
     "execution_count": 28,
     "metadata": {},
     "output_type": "execute_result"
    }
   ],
   "source": [
    "new_seq = new_seq + [get_layer(remaining_layers)]\n",
    "remaining_layers = get_remaining(remaining_layers)\n",
    "new_seq, remaining_layers"
   ]
  },
  {
   "cell_type": "code",
   "execution_count": 29,
   "metadata": {},
   "outputs": [
    {
     "data": {
      "text/plain": [
       "(['Bad', 'programmers'],\n",
       " 'worry about code. Good programmers worry about data structures and their relationships.')"
      ]
     },
     "execution_count": 29,
     "metadata": {},
     "output_type": "execute_result"
    }
   ],
   "source": [
    "new_seq = new_seq + [get_layer(remaining_layers)]\n",
    "remaining_layers = get_remaining(remaining_layers)\n",
    "new_seq, remaining_layers"
   ]
  },
  {
   "cell_type": "code",
   "execution_count": 30,
   "metadata": {},
   "outputs": [
    {
     "data": {
      "text/plain": [
       "(['Bad', 'programmers', 'worry'],\n",
       " 'about code. Good programmers worry about data structures and their relationships.')"
      ]
     },
     "execution_count": 30,
     "metadata": {},
     "output_type": "execute_result"
    }
   ],
   "source": [
    "new_seq = new_seq + [get_layer(remaining_layers)]\n",
    "remaining_layers = get_remaining(remaining_layers)\n",
    "new_seq, remaining_layers"
   ]
  },
  {
   "cell_type": "markdown",
   "metadata": {},
   "source": [
    "### Step 3: Iterate with a while loop"
   ]
  },
  {
   "cell_type": "code",
   "execution_count": null,
   "metadata": {},
   "outputs": [],
   "source": [
    "while not stop_condition(remaining_layers):\n",
    "    new_seq = new_seq + [get_layer(remaining_layers)]\n",
    "    remaining_layers = get_remaining(remaining_layers)\n",
    "    print(new_seq, remaining_layers)"
   ]
  },
  {
   "cell_type": "markdown",
   "metadata": {},
   "source": [
    "# Oops!\n",
    "\n",
    "Looks like we created an infinite loop.  Notice that `remaining_layers` stayed `\"relationships.\"` once we were done.  This is because there are no more spaces.  Let's fix out `get_remaining` functions."
   ]
  },
  {
   "cell_type": "markdown",
   "metadata": {},
   "source": [
    "#### Building `get_remaining`--attempt 2"
   ]
  },
  {
   "cell_type": "code",
   "execution_count": 32,
   "metadata": {},
   "outputs": [
    {
     "data": {
      "text/plain": [
       "'programmers worry about code. Good programmers worry about data structures and their relationships.'"
      ]
     },
     "execution_count": 32,
     "metadata": {},
     "output_type": "execute_result"
    }
   ],
   "source": [
    "remaining = example_quote[example_quote.find(' ') + 1:] if ' ' in example_quote else ''\n",
    "remaining"
   ]
  },
  {
   "cell_type": "code",
   "execution_count": 33,
   "metadata": {},
   "outputs": [
    {
     "data": {
      "text/plain": [
       "'programmers worry about code. Good programmers worry about data structures and their relationships.'"
      ]
     },
     "execution_count": 33,
     "metadata": {},
     "output_type": "execute_result"
    }
   ],
   "source": [
    "get_remaining = lambda s: s[s.find(' ') + 1:] if ' ' in s else ''\n",
    "get_remaining(example_quote)"
   ]
  },
  {
   "cell_type": "markdown",
   "metadata": {},
   "source": [
    "### Let's try that again!"
   ]
  },
  {
   "cell_type": "code",
   "execution_count": null,
   "metadata": {},
   "outputs": [],
   "source": [
    "new_seq = []\n",
    "remaining_layers = example_quote\n",
    "while not stop_condition(remaining_layers):\n",
    "    new_seq = new_seq + [get_layer(remaining_layers)]\n",
    "    remaining_layers = get_remaining(remaining_layers)\n",
    "    print(new_seq, remaining_layers)"
   ]
  },
  {
   "cell_type": "code",
   "execution_count": null,
   "metadata": {},
   "outputs": [],
   "source": [
    "# Helper functions\n",
    "get_layer = lambda s: s[:s.find(' ')]\n",
    "get_remaining = lambda s: s[s.find(' ') + 1:] if ' ' in s else ''\n",
    "stop_condition = lambda s: len(s) == 0\n",
    "\n",
    "def split_on_space(s):\n",
    "    ''' splits a string into a list of words (based on spaces).\n",
    "    \n",
    "    Args:\n",
    "        s: a string\n",
    "        \n",
    "    Returns:\n",
    "        a list of the words in the original string, where a \"word\" is defined\n",
    "        by spaces.  Note that the spaces are removed.\n",
    "    '''\n",
    "    new_seq = []\n",
    "    remaining_layers = s\n",
    "    while not stop_condition(remaining_layers):\n",
    "        new_seq = new_seq + [get_layer(remaining_layers)]\n",
    "        remaining_layers = get_remaining(remaining_layers)\n",
    "        print(new_seq, remaining_layers)\n",
    "    return new_seq\n",
    "\n",
    "def test_split_on_space():\n",
    "    assert split_on_space(\"My cat\") == ['My', 'cat']\n",
    "    assert split_on_space('') == []\n",
    "test_split_on_space()"
   ]
  },
  {
   "cell_type": "markdown",
   "metadata": {},
   "source": [
    "#### Building `get_layer`"
   ]
  },
  {
   "cell_type": "code",
   "execution_count": 39,
   "metadata": {},
   "outputs": [
    {
     "data": {
      "text/plain": [
       "'Bad'"
      ]
     },
     "execution_count": 39,
     "metadata": {},
     "output_type": "execute_result"
    }
   ],
   "source": [
    "first_layer = example_quote[:example_quote.find(' ')]\n",
    "first_layer"
   ]
  },
  {
   "cell_type": "code",
   "execution_count": 41,
   "metadata": {},
   "outputs": [
    {
     "data": {
      "text/plain": [
       "-1"
      ]
     },
     "execution_count": 41,
     "metadata": {},
     "output_type": "execute_result"
    }
   ],
   "source": [
    "s = 'no_spaces'\n",
    "s.find(' ')"
   ]
  },
  {
   "cell_type": "code",
   "execution_count": 42,
   "metadata": {},
   "outputs": [
    {
     "data": {
      "text/plain": [
       "'no_space'"
      ]
     },
     "execution_count": 42,
     "metadata": {},
     "output_type": "execute_result"
    }
   ],
   "source": [
    "s[:s.find(' ')]"
   ]
  },
  {
   "cell_type": "code",
   "execution_count": 44,
   "metadata": {},
   "outputs": [
    {
     "data": {
      "text/plain": [
       "'no_spaces'"
      ]
     },
     "execution_count": 44,
     "metadata": {},
     "output_type": "execute_result"
    }
   ],
   "source": [
    "get_layer = lambda s: s[:s.find(' ')] if ' ' in s else s\n",
    "get_layer(s)"
   ]
  },
  {
   "cell_type": "code",
   "execution_count": 45,
   "metadata": {},
   "outputs": [
    {
     "data": {
      "text/plain": [
       "''"
      ]
     },
     "execution_count": 45,
     "metadata": {},
     "output_type": "execute_result"
    }
   ],
   "source": [
    "get_remaining(s)"
   ]
  },
  {
   "cell_type": "code",
   "execution_count": 3,
   "metadata": {},
   "outputs": [],
   "source": [
    "# Helper functions\n",
    "get_layer = lambda s: s[:s.find(' ')] if ' ' in s else s\n",
    "get_remaining = lambda s: s[s.find(' ') + 1:] if ' ' in s else ''\n",
    "stop_condition = lambda s: len(s) == 0\n",
    "\n",
    "def split_on_space(s):\n",
    "    ''' splits a string into a list of words (based on spaces).\n",
    "    \n",
    "    Args:\n",
    "        s: a string\n",
    "        \n",
    "    Returns:\n",
    "        a list of the words in the original string, where a \"word\" is defined\n",
    "        by spaces.  Note that the spaces are removed.\n",
    "    '''\n",
    "    new_seq = []\n",
    "    remaining_layers = s\n",
    "    while not stop_condition(remaining_layers):\n",
    "        new_seq = new_seq + [get_layer(remaining_layers)]\n",
    "        remaining_layers = get_remaining(remaining_layers)\n",
    "        # print(new_seq, remaining_layers)\n",
    "    return new_seq\n",
    "\n",
    "def test_split_on_space():\n",
    "    assert split_on_space(\"My cat is cute.\") == ['My', 'cat', 'is', 'cute.']\n",
    "    assert split_on_space('') == []\n",
    "test_split_on_space()"
   ]
  },
  {
   "cell_type": "markdown",
   "metadata": {},
   "source": [
    "<h2> <font color=\"red\"> Exercise 4.1.2 </font> </h2>\n",
    "\n",
    "Redo the last problem but this time include an argument `sep` then split on this value.\n",
    "\n",
    "**Hint:** Don't forget to replace the `+ 1` with a better value!"
   ]
  },
  {
   "cell_type": "code",
   "execution_count": 25,
   "metadata": {
    "tags": []
   },
   "outputs": [],
   "source": [
    "# Helper functions\n",
    "#add in sep instead of space\n",
    "get_layer = lambda s, sep: s[:s.find(sep)] if sep in s else s\n",
    "get_remaining = lambda s, sep: s[s.find(sep) + len(sep):] if sep in s else sep\n",
    "stop_condition = lambda s, sep: s == sep #stop if the sep is all that remains\n",
    "\n",
    "def split_on_sep(s, sep):\n",
    "    ''' splits a string into a list of words (based on a given seperator).\n",
    "    \n",
    "    Args:\n",
    "        s: a string\n",
    "        sep: a string\n",
    "        \n",
    "    Returns:\n",
    "        a list of the words in the original string, where a \"word\" is defined\n",
    "        by the given seperator.  Note that the seperators are removed.\n",
    "    '''\n",
    "\n",
    "    #if s is empty, return empty list\n",
    "    if (s == \"\"):\n",
    "        return []\n",
    "\n",
    "\n",
    "    new_seq = []\n",
    "    remaining_layers = s\n",
    "    while not stop_condition(remaining_layers, sep):\n",
    "        new_seq = new_seq + [get_layer(remaining_layers, sep)]\n",
    "        remaining_layers = get_remaining(remaining_layers, sep)\n",
    "        #print(new_seq, remaining_layers)\n",
    "    return new_seq\n",
    "\n",
    "#split_on_sep(\"My cat is cute.\", \" \")\n",
    "#split_on_sep('', \" \")\n",
    "#split_on_sep(\"My,,cat,,is,,cute.\", \",,\")\n",
    "\n",
    "def test_split_on_sep():\n",
    "    assert split_on_sep(\"My cat is cute.\", \" \") == ['My', 'cat', 'is', 'cute.']\n",
    "    assert split_on_sep('', \" \") == []\n",
    "    assert split_on_sep(\"My,,cat,,is,,cute.\", \",,\") == ['My', 'cat', 'is', 'cute.']\n",
    "test_split_on_sep()"
   ]
  },
  {
   "cell_type": "markdown",
   "metadata": {},
   "source": [
    "<h2> <font color=\"red\"> Exercise 4.1.3 </font> </h2>\n",
    "\n",
    "Create a function called `partition` that has two arguments `n` (an int) and `seq` (some sequence) and returns a list with the original content partitioned into `tuple`s of size `n`.\n",
    "\n",
    "Example: `partition(2, [1, 2, 3, 4, 5]) == [(1,2), (3,4), (5,)]`\n",
    "\n",
    "**Note:** To get create for this problem, you need to.\n",
    "\n",
    "1. Document playing around with an example.\n",
    "2. Document the creation and testing of your three `lambda functions (`get_layer`, `get_remaining` and `stop_condition`)\n",
    "3. Package the code in a `def` statement with a good doc string and test function."
   ]
  },
  {
   "cell_type": "code",
   "execution_count": 32,
   "metadata": {
    "tags": []
   },
   "outputs": [
    {
     "output_type": "stream",
     "name": "stdout",
     "text": "[1, 2]\n[3, 4]\n"
    }
   ],
   "source": [
    "#start with basic sequencing\n",
    "seq = [1, 2, 3, 4, 5]\n",
    "\n",
    "seqpart = seq[:1]\n",
    "\n",
    "seqpart2 = seq[2:4]\n",
    "\n",
    "print(seqpart)\n",
    "\n",
    "print(seqpart2)\n",
    "\n",
    "s"
   ]
  },
  {
   "cell_type": "code",
   "execution_count": 56,
   "metadata": {
    "tags": []
   },
   "outputs": [
    {
     "output_type": "stream",
     "name": "stdout",
     "text": "(1,2)\n(3,4)\n(5,)\n"
    }
   ],
   "source": [
    "#get a sample output\n",
    "seq = [1, 2, 3, 4, 5]\n",
    "\n",
    "seqpart = \"(\" + str(seq[0]) + \",\" + str(seq[1]) + \")\"\n",
    "\n",
    "seqpart2 = \"(\" + str(seq[2]) + \",\" + str(seq[3]) + \")\"\n",
    "\n",
    "print(seqpart)\n",
    "print(seqpart2)\n",
    "\n",
    "seqpart3 = \"(\" + str(seq[4]) + \",\" + \")\"\n",
    "\n",
    "print(seqpart3)"
   ]
  },
  {
   "cell_type": "code",
   "execution_count": 57,
   "metadata": {
    "tags": []
   },
   "outputs": [
    {
     "output_type": "stream",
     "name": "stdout",
     "text": "['(1,2)', '(3,4)', '(5,)']\n"
    }
   ],
   "source": [
    "#make a test with strings\n",
    "seq = [1, 2, 3, 4, 5]\n",
    "\n",
    "output = []\n",
    "\n",
    "seqpart = \"(\" + str(seq[0]) + \",\" + str(seq[1]) + \")\"\n",
    "\n",
    "output.append(seqpart)\n",
    "\n",
    "seqpart2 = \"(\" + str(seq[2]) + \",\" + str(seq[3]) + \")\"\n",
    "\n",
    "output.append(seqpart2)\n",
    "\n",
    "seqpart3 = \"(\" + str(seq[4]) + \",\" + \")\"\n",
    "\n",
    "output.append(seqpart3)\n",
    "\n",
    "print(output)"
   ]
  },
  {
   "cell_type": "code",
   "execution_count": 58,
   "metadata": {
    "tags": []
   },
   "outputs": [
    {
     "output_type": "stream",
     "name": "stdout",
     "text": "[(1, 2), (3, 4), (5,)]\n"
    }
   ],
   "source": [
    "#do it again with tuples\n",
    "\n",
    "seq = [1, 2, 3, 4, 5]\n",
    "\n",
    "output = []\n",
    "\n",
    "seqpart =  (seq[0],seq[1])\n",
    "\n",
    "output.append(seqpart)\n",
    "\n",
    "seqpart2 = (seq[2]),(seq[3])\n",
    "\n",
    "output.append(seqpart2)\n",
    "\n",
    "seqpart3 = (seq[4],)\n",
    "\n",
    "output.append(seqpart3)\n",
    "\n",
    "print(output)"
   ]
  },
  {
   "cell_type": "code",
   "execution_count": 60,
   "metadata": {},
   "outputs": [
    {
     "output_type": "execute_result",
     "data": {
      "text/plain": "(1, 2)"
     },
     "metadata": {},
     "execution_count": 60
    }
   ],
   "source": [
    "#make get_layer\n",
    "\n",
    "get_layer = lambda seq, index: (seq[index],seq[index+1])\n",
    "\n",
    "get_layer(seq,0)"
   ]
  },
  {
   "cell_type": "code",
   "execution_count": 61,
   "metadata": {},
   "outputs": [
    {
     "output_type": "execute_result",
     "data": {
      "text/plain": "3"
     },
     "metadata": {},
     "execution_count": 61
    }
   ],
   "source": [
    "#make get get_remaing\n",
    "\n",
    "get_remaing = lambda index: (index + 2)\n",
    "\n",
    "get_remaing(1)"
   ]
  },
  {
   "cell_type": "code",
   "execution_count": 87,
   "metadata": {
    "tags": []
   },
   "outputs": [
    {
     "output_type": "stream",
     "name": "stdout",
     "text": "False\nTrue\nTrue\n"
    }
   ],
   "source": [
    "#make stop condition\n",
    "\n",
    "seq = [1, 2, 3, 4, 5]\n",
    "seq2 = [1, 2, 3, 4]\n",
    "\n",
    "stop_condition = lambda seq, index: len(seq)-1 <= index #or len(seq)-1 == index + 1\n",
    "\n",
    "print(stop_condition(seq,2))\n",
    "print(stop_condition(seq,4))\n",
    "print(stop_condition(seq2,4))\n",
    "#print(len(seq))"
   ]
  },
  {
   "cell_type": "code",
   "execution_count": 120,
   "metadata": {},
   "outputs": [],
   "source": [
    "#using what was learned on the basic forms, we can make our helper functions for use in a def statement\n",
    "\n",
    "\n",
    "stop_condition = lambda seq, index: index <= len(seq)-1\n",
    "\n",
    "get_layer = lambda flist, tuple: flist.append(tuple)\n",
    "\n",
    "get_remaing = lambda list: tuple(list) "
   ]
  },
  {
   "cell_type": "code",
   "execution_count": 145,
   "metadata": {
    "tags": []
   },
   "outputs": [
    {
     "output_type": "execute_result",
     "data": {
      "text/plain": "[(1, 2)]"
     },
     "metadata": {},
     "execution_count": 145
    }
   ],
   "source": [
    "def partition(seq, n):\n",
    "   ''' puts a list of numbers into a list of tuples of size n, with remaing\n",
    "     values that do not fit being instered into the last tuple\n",
    "    \n",
    "   Args:\n",
    "        seq: a list of ints\n",
    "        n: the desired size of output tuples, must be positive\n",
    "        \n",
    "   Returns:\n",
    "       a list filled with tuples, with all but the last one guranteed to\n",
    "       be size n if there are at least n values in the argument list\n",
    "   '''\n",
    "   \n",
    "\n",
    "   stop_condition = lambda seq, index: index <= len(seq)-1\n",
    "\n",
    "   index = 0 #where we are in seq\n",
    "   tuple_list = [] #storage for items that become tuples\n",
    "   current_tuple = () #current tuple before its put in output list\n",
    "   full_list = [] #ouput list\n",
    "\n",
    "    #work while we can make max size tuples\n",
    "   while stop_condition(seq, index):\n",
    "        tuple_list.append(seq[index])\n",
    "\n",
    "        if(len(tuple_list) == n):\n",
    "            current_tuple = get_remaing(tuple_list)\n",
    "            tuple_list = []\n",
    "            get_layer(full_list,current_tuple)\n",
    "            \n",
    "        index = index + 1\n",
    "   \n",
    "    #thrown in last tuple if there is anything left\n",
    "   if tuple_list != []:\n",
    "        current_tuple = get_remaing(tuple_list)\n",
    "        get_layer(full_list,current_tuple)\n",
    "\n",
    "   return full_list\n",
    "\n",
    "\n",
    "#partition([],2)\n",
    "#partition(seq,6)\n",
    "#partition([1,2],2)\n",
    "\n"
   ]
  },
  {
   "source": [
    "\n",
    "def test_partition():\n",
    "    assert partition([1, 2, 3, 4, 5], 4) == [(1, 2, 3, 4), (5,)]\n",
    "    assert partition([], 2) == [()]\n",
    "    assert partition([1, 2, 3, 4, 5], 2) == [(1, 2), (3, 4), (5,)]\n",
    "    assert partition([1, 2, 3, 4, 5], 6) == [(1, 2, 3, 4, 5)]\n",
    "    assert partition([1],15) == [(1,)]\n",
    "    assert partition([1,2],2) == [(1, 2)]\n",
    "   \n",
    "test_partition()"
   ],
   "cell_type": "code",
   "metadata": {},
   "execution_count": 141,
   "outputs": []
  },
  {
   "cell_type": "code",
   "execution_count": null,
   "metadata": {},
   "outputs": [],
   "source": []
  }
 ],
 "metadata": {
  "kernelspec": {
   "display_name": "Python 3",
   "language": "python",
   "name": "python3"
  },
  "language_info": {
   "codemirror_mode": {
    "name": "ipython",
    "version": 3
   },
   "file_extension": ".py",
   "mimetype": "text/x-python",
   "name": "python",
   "nbconvert_exporter": "python",
   "pygments_lexer": "ipython3",
   "version": "3.7.6-final"
  }
 },
 "nbformat": 4,
 "nbformat_minor": 2
}