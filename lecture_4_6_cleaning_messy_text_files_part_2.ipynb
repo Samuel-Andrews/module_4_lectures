{
 "cells": [
  {
   "cell_type": "markdown",
   "metadata": {},
   "source": [
    "# Lecture 4.6 - Basics of cleaning messy text files \n",
    "## Part 2 - Grouping blocks of data and extracting information\n",
    "\n",
    "In this lecture, we will go over a number of cases of messy data, and how to use Python to fix these problems.  This includes\n",
    "\n",
    "1. Removing unwanted lines.\n",
    "2. Parsing lines with regular expressions.\n",
    "3. Working with data blocks spread across multiple lines."
   ]
  },
  {
   "cell_type": "markdown",
   "metadata": {},
   "source": [
    "## Reading in current progress"
   ]
  },
  {
   "cell_type": "code",
   "execution_count": 2,
   "metadata": {},
   "outputs": [
    {
     "output_type": "execute_result",
     "data": {
      "text/plain": [
       "\"Gordon M. Aamoth, Jr., 32, Sandler O'Neill + Partners, World Trade Center.\\nEdelmiro Abad, 54, Brooklyn, N.Y., Fiduciary Trust Company International, World Trade Center.\\nMarie Rose Abad, 49, Keefe, Bruyette&Woods, Inc., World Trade Center.\\nAndrew Anthony Abate, 37, Melville, N.Y., Cantor Fitzgerald, World Trade Center.\\nVincent Paul Abate, 40, Brooklyn, N.Y., Cantor Fitzgerald, World Trade Center.\\nLaurence Christopher Abel, 37, New York City, Cantor Fitzgerald, World Trade Center.\\nAlona Abraham, 3\""
      ]
     },
     "metadata": {},
     "execution_count": 2
    }
   ],
   "source": [
    "with open('911_Deaths_Grouped.csv') as f:\n",
    "    content = f.read()\n",
    "content[:500]"
   ]
  },
  {
   "cell_type": "code",
   "execution_count": 3,
   "metadata": {
    "scrolled": true
   },
   "outputs": [
    {
     "output_type": "execute_result",
     "data": {
      "text/plain": [
       "[\"Gordon M. Aamoth, Jr., 32, Sandler O'Neill + Partners, World Trade Center.\",\n",
       " 'Edelmiro Abad, 54, Brooklyn, N.Y., Fiduciary Trust Company International, World Trade Center.',\n",
       " 'Marie Rose Abad, 49, Keefe, Bruyette&Woods, Inc., World Trade Center.',\n",
       " 'Andrew Anthony Abate, 37, Melville, N.Y., Cantor Fitzgerald, World Trade Center.',\n",
       " 'Vincent Paul Abate, 40, Brooklyn, N.Y., Cantor Fitzgerald, World Trade Center.',\n",
       " 'Laurence Christopher Abel, 37, New York City, Cantor Fitzgerald, World Trade Center.',\n",
       " 'Alona Abraham, 30, Ashdod, Israel, Passenger, United 175, World Trade Center.',\n",
       " 'William F. Abrahamson, 55, Westchester County, N.Y., Marsh&McLennan Companies, Inc., World Trade Center.',\n",
       " 'Richard Anthony Aceto, 42, Marsh&McLennan Companies, Inc., World Trade Center.',\n",
       " 'Heinrich Bernhard Ackermann, 38, Aon Corporation, World Trade Center.',\n",
       " 'Paul Acquaviva, 29, Glen Rock, N.J., Cantor Fitzgerald, World Trade Center.',\n",
       " 'Christian Adams, 37, Passenger, United 93, Shanksville, Pa.',\n",
       " 'Donald LaRoy Adams, 28, Cantor Fitzgerald, World Trade Center.',\n",
       " 'Patrick Adams, 61, Fuji Bank, Ltd. security, World Trade Center.',\n",
       " 'Shannon Lewis Adams, 25, Cantor Fitzgerald, World Trade Center.',\n",
       " 'Stephen George Adams, 51, New York City, Windows on the World, World Trade Center.',\n",
       " 'Ignatius Udo Adanga, 62, Bronx, N.Y., New York Metropolitan Transportation Council, World Trade Center.',\n",
       " 'Christy A. Addamo, 28, New Hyde Park, N.Y., Marsh&McLennan Companies, Inc., World Trade Center.',\n",
       " 'Terence Edward Adderley, Jr., 22, New York City, Fred Alger Management, Inc., World Trade Center.',\n",
       " 'Sophia B. Addo, 36, Bronx, N.Y., Windows on the World, World Trade Center.']"
      ]
     },
     "metadata": {},
     "execution_count": 3
    }
   ],
   "source": [
    "grouped_lines = content.split('\\n')\n",
    "grouped_lines[:20]"
   ]
  },
  {
   "cell_type": "markdown",
   "metadata": {},
   "source": [
    "## Preprocessing \n",
    "\n",
    "Below I have transfered over the preprocessing functions and applied them to the data."
   ]
  },
  {
   "cell_type": "code",
   "execution_count": 4,
   "metadata": {},
   "outputs": [],
   "source": [
    "# Imports\n",
    "from composable import pipeable\n",
    "from composable.strict import map"
   ]
  },
  {
   "cell_type": "code",
   "execution_count": 5,
   "metadata": {},
   "outputs": [],
   "source": [
    "# Helper functions\n",
    "add_missing_period = pipeable(lambda line: line if line.endswith('.') else line + '.' )\n",
    "fix_world_trade = pipeable(lambda line: line.replace('WorldTrade', 'World Trade'))"
   ]
  },
  {
   "cell_type": "code",
   "execution_count": 6,
   "metadata": {},
   "outputs": [
    {
     "output_type": "execute_result",
     "data": {
      "text/plain": [
       "antor Fitzgerald, World Trade Center.',\n",
       " 'Anthony J. Fallone, Jr., 39, New York City, Cantor Fitzgerald, World Trade Center.',\n",
       " 'Dolores Brigitte Fanelli, 38, Farmingville, N.Y., Marsh&McLennan Companies, Inc., World Trade Center.',\n",
       " 'Robert John Fangman, 33, Chelsea, Mass., Flight Crew, United 175, World Trade Center.',\n",
       " 'John Joseph Fanning, 54, West Hempstead, N.Y., New York City Fire Department, World Trade Center.',\n",
       " 'Kathleen Anne Faragher, 33, Risk Waters Group conference attendee from Janus Capital Group, World Trade Center.',\n",
       " 'Thomas James Farino, 37, Bohemia, N.Y., New York City Fire Department, World Trade Center.',\n",
       " 'Nancy C. Doloszycki Farley, 45, Jersey City, N.J., Reinsurance Solutions, World Trade Center.',\n",
       " 'Paige Marie Farley-Hackel, 46, Newton, Mass., Passenger, United 11, World Trade Center.',\n",
       " 'Elizabeth Ann Farmer, 62, Cantor Fitzgerald contractor, World Trade Center.',\n",
       " 'Douglas Jon Farnum, 33, Brooklyn, N.Y., Marsh&McLennan Companies, Inc., World Trade Center.',\n",
       " 'John Gerard Farrell, 32, Brooklyn, N.Y., Cantor Fitzgerald, World Trade Center.',\n",
       " \"John W. Farrell, 41, Basking Ridge, N.J., Sandler O'Neill + Partners, World Trade Center.\",\n",
       " 'Terrence Patrick Farrell, 45, New York City Fire Department, World Trade Center.',\n",
       " 'Joseph D. Farrelly, 47, New York City Fire Department, World Trade Center.',\n",
       " 'Thomas Patrick Farrelly, 54, Marsh&McLennan consultant, World Trade Center.',\n",
       " 'Syed Abdul Fatha, 54, Newark, N.J., Pitney Bowes Inc., World Trade Center.',\n",
       " 'Christopher Edward Faughnan, 37, South Orange, N.J., Cantor Fitzgerald, World Trade Center.',\n",
       " 'Wendy R. Faulkner, 47, Mason, Ohio, Aon Corporation, World Trade Center.',\n",
       " 'Shannon Marie Fava, 30, Cantor Fitzgerald, World Trade Center.',\n",
       " 'Bernard D. Favuzza, 52, Cantor Fitzgerald, World Trade Center.',\n",
       " 'Robert Fazio, Jr., 41, Freeport, N.Y., New York City Police Department, World Trade Center.',\n",
       " 'Ronald Carl Fazio, Sr., 57, Closter, N.J., Aon Corporation, World Trade Center.',\n",
       " 'William M. Feehan, 71, Flushing, N.Y., New York City Fire Department, World Trade Center.',\n",
       " 'Francis Jude Feely, 41, Marsh&McLennan Companies, Inc., World Trade Center.',\n",
       " 'Garth Erin Feeney, 25, New York City, Risk Waters Group conference attendee from DataSynapse, World Trade Center.',\n",
       " 'Sean Bernard Fegan, 34, New York City, Fred Alger Management, Inc., World Trade Center.',\n",
       " 'Lee S. Fehling, 28, Wantagh, N.Y., New York City Fire Department, World Trade Center.',\n",
       " 'Peter Adam Feidelberg, 34, Hoboken, N.J., Aon Corporation, World Trade Center.',\n",
       " 'Alan D. Feinberg, 48, Marlboro, N.J., New York City Fire Department, World Trade Center.',\n",
       " 'Rosa Maria Feliciano, 30, Marsh&McLennan Companies, Inc., World Trade Center.',\n",
       " 'Edward P. Felt, 41, Matawan, N.J., Passenger, United 93, Shanksville, Pa.',\n",
       " 'Edward Thomas Fergus, Jr., 40, Wilton, Conn., Cantor Fitzgerald, World Trade Center.',\n",
       " 'George J. Ferguson III, 54, Teaneck, N.J., Westfalia Investments, Inc., World Trade Center.',\n",
       " 'J. Joseph Ferguson, 39, Washington, D.C., Passenger, American 77, Pentagon.',\n",
       " 'Henry Fernandez, 23, Windows on the World, World Trade Center.',\n",
       " 'Judy Hazel Santillan Fernandez, 27, Parlin, N.J., Cantor Fitzgerald, World Trade Center.',\n",
       " 'Julio Fernandez, 51, Hudson Shatz, World Trade Center.',\n",
       " 'Elisa Giselle Ferraina, 26, Risk Waters Group, World Trade Center.',\n",
       " 'Anne Marie Sallerin Ferreira, 29, Cantor Fitzgerald, World Trade Center.',\n",
       " 'Robert John Ferris, 63, Garden City, N.Y., Aon Corporation, World Trade Center.',\n",
       " 'David Francis Ferrugio, 46, Middletown, N.J., Cantor Fitzgerald, World Trade Center.',\n",
       " 'Louis V. Fersini, Jr., 38, Basking Ridge, N.J., Cantor Fitzgerald, World Trade Center.',\n",
       " 'Michael David Ferugio, 37, Brooklyn, N.Y., Aon Corporation visitor from Swett&Crawford Group, World Trade Center.',\n",
       " 'Bradley James Fetchet, 24, Keefe, Bruyette&Woods, Inc., World Trade Center.',\n",
       " 'Jennifer Louise Fialko, 29, Teaneck, N.J., Aon Corporation, World Trade Center.',\n",
       " 'Kristen Nicole Fiedel, 27, Marsh&McLennan Companies, Inc., World Trade Center.',\n",
       " 'Amelia V. Fields, 46, Dumfries, Va., United States Army Civilian, Pentagon.',\n",
       " 'Samuel Fields, 36, Summit Security Services, Inc., World Trade Center.',\n",
       " 'Alexander Milan Filipov, 70, Concord, Mass., Passenger, United 11, World Trade Center.',\n",
       " 'Michael Bradley Finnegan, 37, Basking Ridge, N.J., Cantor Fitzgerald, World Trade Center.',\n",
       " 'Timothy J. Finnerty, 33, Glen Rock, N.J., Cantor Fitzgerald, World Trade Center.',\n",
       " 'Michael C. Fiore, 46, Staten Island, N.Y., New York City Fire Department, World Trade Center.',\n",
       " 'Stephen J. Fiorelli, 43, Aberdeen, N.J., Port Authority of New York and New Jersey, World Trade Center.',\n",
       " 'Paul M. Fiori, 31, Cantor Fitzgerald, World Trade Center.',\n",
       " 'John B. Fiorito, 40, Stamford, Conn., Cantor Fitzgerald, World Trade Center.',\n",
       " 'John R. Fischer, 46, New York City Fire Department, World Trade Center.',\n",
       " 'Andrew Fisher, 42, Risk Waters Group conference attendee from Imagine Software, Inc., World Trade Center.',\n",
       " 'Bennett Lawson Fisher, 58, Greenwich, Conn., Fiduciary Trust Company International, World Trade Center.',\n",
       " 'Gerald P. Fisher, 57, Potomac, Md., United States Army contractor, Pentagon.',\n",
       " 'John Roger Fisher, 46, Port Authority of New York and New Jersey, World Trade Center.',\n",
       " 'Thomas J. Fisher, 36, Union, N.J., Fiduciary Trust Company International, World Trade Center.',\n",
       " 'Lucy A. Fishman, 36, Brooklyn, N.Y., Aon Corporation, World Trade Center.',\n",
       " 'Ryan D. Fitzgerald, 26, Floral Park, N.Y., Fiduciary Trust Company International, World Trade Center.',\n",
       " \"Thomas James Fitzpatrick, 35, Tuckahoe, N.Y., Sandler O'Neill + Partners, World Trade Center.\",\n",
       " 'Richard P. Fitzsimons, 57, Lynbrook, N.Y., World Trade Center Fire Safety, World Trade Center.',\n",
       " 'Salvatore Fiumefreddo, 45, Manalapan, N.J., Cantor Fitzgerald contractor from International Brotherhood of Electrical Workers, World Trade Center.',\n",
       " 'Darlene E. Flagg, ??, Passenger, American 77, Pentagon.',\n",
       " 'Wilson F. Flagg, 62, Millwood, Va., Passenger, American 77, Pentagon.',\n",
       " \"Christina Donovan Flannery, 26, Middle Village, N.Y., Sandler O'Neill + Partners, World Trade Center.\",\n",
       " 'Eileen Flecha, 33, Queens, N.Y., Fiduciary Trust Company International, World Trade Center.',\n",
       " 'Andre G. Fletcher, 37, New York City Fire Department, World Trade Center.',\n",
       " 'Carl M. Flickinger, 38, Congers, N.Y., Cantor Fitzgerald, World Trade Center.',\n",
       " 'Matthew M. Flocco, ??, United States Navy, Pentagon.',\n",
       " 'John Joseph Florio, 33, Oceanside, N.Y., New York City Fire Department, World Trade Center.',\n",
       " 'Joseph Walkden Flounders, 46, East Stroudsburg, Pa., Euro Brokers, World Trade Center.',\n",
       " 'Carol Ann Flyzik, 40, Plaistow, N.H., Passenger, United 11, World Trade Center.',\n",
       " 'David Fodor, 38, Fiduciary Trust Company International, World Trade Center.',\n",
       " 'Michael N. Fodor, 53, Warwick, N.Y., New York City Fire Department, World Trade Center.',\n",
       " 'Stephen Mark Fogel, 40, Cantor Fitzgerald, World Trade Center.',\n",
       " 'Thomas J. Foley, 32, Central Nyack, N.Y., New York City Fire Department, World Trade Center.',\n",
       " 'Jane C. Folger, 73, Bayonne, N.J., Passenger, United 93, Shanksville, Pa.',\n",
       " 'David J. Fontana, 37, Brooklyn, N.Y., New York City Fire Department, World Trade Center.',\n",
       " 'Chih Min Foo, 40, Holmdel, N.J., New York Board of Trade, World Trade Center.',\n",
       " 'Delrose E. Forbes Cheatham, 48, Effort, Pa., Cantor Fitzgerald, World Trade Center.',\n",
       " 'Godwin Forde, 38, Morgan Stanley contractor, World Trade Center.',\n",
       " 'Donald A. Foreman, 53, Staten Island, N.Y., Port Authority Police Department, World Trade Center.',\n",
       " 'Christopher Hugh Forsythe, 44, Cantor Fitzgerald, World Trade Center.',\n",
       " 'Claudia Alicia Foster, 26, Cantor Fitzgerald, World Trade Center.',\n",
       " 'Noel John Foster, 40, Aon Corporation, World Trade Center.',\n",
       " 'Sandra N. Foster, 41, Defense Intelligence Agency, Pentagon.',\n",
       " 'Ana Fosteris, 58, Aon Corporation, World Trade Center.',\n",
       " 'Robert Joseph Foti, 42, Albertson, N.Y., New York City Fire Department, World Trade Center.',\n",
       " 'Jeffrey Fox, 40, Cranbury, N.J., Keefe, Bruyette&Woods, Inc., World Trade Center.',\n",
       " 'Virginia Elizabeth Fox, 58, New York City, Marsh&McLennan Companies, Inc., World Trade Center.',\n",
       " 'Pauline Francis, 56, Brooklyn, N.Y., Cantor Fitzgerald, Forte Food Service, World Trade Center.',\n",
       " 'Virgin Lucy Francis, 62, Brooklyn, N.Y., Windows on the World, World Trade Center.',\n",
       " 'Gary Jay Frank, 35, South Amboy, N.J., Aon Corporation, World Trade Center.',\n",
       " 'Morton H. Frank, 31, Cantor Fitzgerald, World Trade Center.',\n",
       " 'Peter Christopher Frank, 29, New York City, Fred Alger Management, Inc., World Trade Center.',\n",
       " 'Colleen L. Fraser, 51, Elizabeth, N.J., Passenger, United 93, Shanksville, Pa.',\n",
       " 'Richard K. Fraser, 32, Aon Corporation, World Trade Center.',\n",
       " 'Kevin J. Frawley, 34, Bronxville, N.Y., Euro Brokers, World Trade Center.',\n",
       " 'Clyde Frazier, Jr., 41, Jamaica, N.Y., New York State Department of Taxation and Finance, Revenue Crimes Bureau, World Trade Center.',\n",
       " 'Lillian Inez Frederick, 46, Teaneck, N.J., Aon Corporation, World Trade Center.',\n",
       " 'Andrew Fredericks, 40, Suffern, N.Y., New York City Fire Department, World Trade Center.',\n",
       " 'Tamitha Freeman, 35, Aon Corporation, World Trade Center.',\n",
       " 'Brett Owen Freiman, 28, New York City, Marriott guest, World Trade Center.',\n",
       " 'Peter L. Freund, 45, Westtown, N.Y., New York City Fire Department, World Trade Center.',\n",
       " 'Arlene Eva Fried, 49, Roslyn, N.Y., Cantor Fitzgerald, World Trade Center.',\n",
       " 'Alan W. Friedlander, 52, Yorktown Heights, N.Y., Aon Corporation, World Trade Center.',\n",
       " 'Andrew Keith Friedman, 44, Woodbury, N.Y., Carr Futures, Inc., World Trade Center.',\n",
       " 'Paul J. Friedman, 45, Passenger, United 11, World Trade Center.',\n",
       " 'Gregg J. Froehner, 46, Chester, N.J., Port Authority Police Department, World Trade Center.',\n",
       " 'Lisa Anne Frost, 22, Rancho Santa Margarita, Calif., Passenger, United 175, World Trade Center.',\n",
       " 'Peter Christian Fry, 36, Wilton, Conn., Euro Brokers, World Trade Center.',\n",
       " 'Clement A. Fumando, 59, Staten Island, N.Y., Cantor Fitzgerald, World Trade Center.',\n",
       " 'Steven Elliot Furman, 40, Cantor Fitzgerald, World Trade Center.',\n",
       " 'Paul James Furmato, 37, Colts Neck, N.J., Cantor Fitzgerald, World Trade Center.',\n",
       " 'Karleton Douglas Beye Fyfe, 31, Brookline, Mass., Passenger, United 11, World Trade Center.',\n",
       " 'Fredric Neal Gabler, 30, New York City, Cantor Fitzgerald, World Trade Center.',\n",
       " 'Richard Peter Gabriel, 54, Great Falls, Va., Passenger, American 77, Pentagon.',\n",
       " 'Richard S. Gabrielle, 50, West Haven, Conn., Aon Corporation, World Trade Center.',\n",
       " 'James Andrew Gadiel, 23, Kent, Conn., Cantor Fitzgerald, World Trade Center.',\n",
       " 'Pamela Lee Gaff, 51, Robbinsville, N.J., Aon Corporation, World Trade Center.',\n",
       " 'Ervin Vincent Gailliard, 42, Summit Security Services, Inc., World Trade Center.',\n",
       " 'Deanna Lynn Galante and her unborn child, 32, Staten Island, N.Y., Cantor Fitzgerald, World Trade Center.',\n",
       " 'Grace Catherine Galante, 29, Staten Island, N.Y., Cantor Fitzgerald, World Trade Center.',\n",
       " 'Anthony Edward Gallagher, 41, New York City, Cantor Fitzgerald, World Trade Center.',\n",
       " 'Daniel James Gallagher, 23, Red Bank, N.J., Cantor Fitzgerald, World Trade Center.',\n",
       " 'John Patrick Gallagher, 31, Cantor Fitzgerald, World Trade Center.',\n",
       " 'Lourdes J. Galletti, 35, Bronx, N.Y., Cantor Fitzgerald, World Trade Center.',\n",
       " 'Cono E. Gallo, 30, Maspeth, N.Y., Carr Futures, Inc., World Trade Center.',\n",
       " 'Vincent Gallucci, 36, Monroe, N.J., Marsh&McLennan Companies, Inc., World Trade Center.',\n",
       " 'Thomas E. Galvin, 32, New York City, Cantor Fitzgerald, World Trade Center.',\n",
       " 'Giovanna Galletta Gambale, 27, Brooklyn, N.Y., Cantor Fitzgerald, World Trade Center.',\n",
       " 'Thomas Gambino, Jr., 48, Babylon, N.Y., New York City Fire Department, World Trade Center.',\n",
       " 'Giann F. Gamboa, 26, East Elmhurst, N.Y., Aramark Corporation, World Trade Center.',\n",
       " 'Ronald L. Gamboa, 33, Los Angeles, Calif., Passenger, United 175, World Trade Center.',\n",
       " 'Peter James Ganci, Jr., 54, North Massapequa, N.Y., New York City Fire Department, World Trade Center.',\n",
       " 'Michael Gann, 41, Roswell, Ga., Risk Waters Group conference attendee from Algorithmics Incorporated, World Trade Center.',\n",
       " 'Charles William Garbarini, 44, Westchester, N.Y., New York City Fire Department, World Trade Center.',\n",
       " 'Andrew Sonny Garcia, 62, Portola Valley, Calif., Passenger, United 93, Shanksville, Pa.',\n",
       " 'Cesar R. Garcia, 36, Staten Island, N.Y., Marsh&McLennan Companies, Inc., World Trade Center.',\n",
       " 'David Garcia, 40, Freeport, N.Y., Marsh&McLennan consultant from Allegiance Group, World Trade Center.',\n",
       " 'Jorge Luis Morron Garcia, 38, Jackson Heights, N.Y., Summit Security Services, Inc., World Trade Center.',\n",
       " 'Juan Garcia, 50, Cantor Fitzgerald, Forte Food Service, World Trade Center.',\n",
       " 'Marlyn Del Carmen Garcia, 21, Brooklyn, N.Y., Marsh&McLennan Companies, Inc., World Trade Center.',\n",
       " 'Christopher Samuel Gardner, 36, Darien, Conn., Aon Corporation, World Trade Center.',\n",
       " 'Douglas Benjamin Gardner, 39, New York City, Cantor Fitzgerald, World Trade Center.',\n",
       " 'Harvey Joseph Gardner III, 35, Lake Wood, N.J., General Telecommunications, World Trade Center.',\n",
       " 'Jeffrey Brian Gardner, 36, Hoboken, N.J., Marsh&McLennan Companies, Inc., World Trade Center.',\n",
       " 'Thomas A. Gardner, 39, Oceanside, N.Y., New York City Fire Department, World Trade Center.',\n",
       " 'William Arthur Gardner, 45, Cantor Fitzgerald, World Trade Center.',\n",
       " 'Frank Garfi, 28, New York City, Cantor Fitzgerald, World Trade Center.',\n",
       " 'Rocco Nino Gargano, 28, Cantor Fitzgerald, World Trade Center.',\n",
       " 'James M. Gartenberg, 35, New York City, Julien J. Studley, World Trade Center.',\n",
       " 'Matthew David Garvey, 37, New York City Fire Department, World Trade Center.',\n",
       " 'Bruce Gary, 51, Bellmore, N.Y., New York City Fire Department, World Trade Center.',\n",
       " 'Boyd Alan Gatton, 38, Fiduciary Trust Company International, World Trade Center.',\n",
       " 'Donald Richard Gavagan, Jr., 35, Brooklyn, N.Y., Cantor Fitzgerald, World Trade Center.',\n",
       " 'Peter Alan Gay, 54, Tewksbury, Mass., Passenger, United 11, World Trade Center.',\n",
       " 'Terence D. Gazzani, 24, Cantor Fitzgerald, World Trade Center.',\n",
       " 'Gary Paul Geidel, 44, Staten Island, N.Y., New York City Fire Department, World Trade Center.',\n",
       " 'Paul Hamilton Geier, 36, Cantor Fitzgerald, World Trade Center.',\n",
       " \"Julie M. Geis, 44, Lee's Summit, Mo., Aon Corporation, World Trade Center.\",\n",
       " 'Peter Gerard Gelinas, 34, Westchester, N.Y., Cantor Fitzgerald, World Trade Center.',\n",
       " 'Steven Paul Geller, 52, New York City, Cantor Fitzgerald, World Trade Center.',\n",
       " \"Howard G. Gelling, Jr., 28, New York City, Sandler O'Neill + Partners, World Trade Center.\",\n",
       " 'Peter Victor Genco, Jr., 36, Rockville Centre, N.Y., Cantor Fitzgerald, World Trade Center.',\n",
       " 'Steven Gregory Genovese, 37, Basking Ridge, N.J., Cantor Fitzgerald, World Trade Center.',\n",
       " 'Alayne Gentul, 44, Fiduciary Trust Company International, World Trade Center.',\n",
       " 'Linda M. George, 27, Westboro, Mass., Passenger, United 11, World Trade Center.',\n",
       " 'Edward F. Geraghty, 45, New York City Fire Department, World Trade Center.',\n",
       " 'Suzanne Geraty, 30, Brooklyn, N.Y., Cantor Fitzgerald, World Trade Center.',\n",
       " 'Ralph Gerhardt, 34, New York City, Cantor Fitzgerald, World Trade Center.',\n",
       " 'Robert Gerlich, 56, Reinsurance Solutions, World Trade Center.',\n",
       " 'Denis P. Germain, 33, Tuxedo, N.Y., New York City Fire Department, World Trade Center.',\n",
       " 'Marina Romanovna Gertsberg, 25, Brooklyn, N.Y., Cantor Fitzgerald, World Trade Center.',\n",
       " 'Susan M. Getzendanner, 57, Fiduciary Trust Company International, World Trade Center.',\n",
       " 'Lawrence D. Getzfred, 57, Maryland, United States Navy, Pentagon.',\n",
       " 'James G. Geyer, 41, Rockville Centre, N.Y., Cantor Fitzgerald, World Trade Center.',\n",
       " 'Cortez Ghee, ??, United States Army Civilian, Pentagon.',\n",
       " 'Joseph M. Giaccone, 43, Monroe, N.J., Cantor Fitzgerald, World Trade Center.',\n",
       " 'Vincent Francis Giammona, 40, Valley Stream, N.Y., New York City Fire Department, World Trade Center.',\n",
       " 'Debra Lynn Gibbon, 43, Hackettstown, N.J., Aon Corporation, World Trade Center.',\n",
       " 'James Andrew Giberson, 43, Staten Island, N.Y., New York City Fire Department, World Trade Center.',\n",
       " 'Brenda C. Gibson, 59, Fredericksburg, Va., United States Army Civilian, Pentagon.',\n",
       " 'Craig Neil Gibson, 37, Brooklyn, N.Y., Marsh&McLennan Companies, Inc., World Trade Center.',\n",
       " 'Ronnie E. Gies, 43, Merrick, N.Y., New York City Fire Department, World Trade Center.',\n",
       " 'Andrew Clive Gilbert, 39, Tewksbury, N.J., Cantor Fitzgerald, World Trade Center.',\n",
       " 'Timothy Paul Gilbert, 35, Cantor Fitzgerald, World Trade Center.',\n",
       " 'Paul Stuart Gilbey, 39, Chatham, N.J., Euro Brokers, World Trade Center.',\n",
       " 'Paul John Gill, 34, Astoria, N.Y., New York City Fire Department, World Trade Center.',\n",
       " 'Mark Y. Gilles, 33, Brooklyn, N.Y., Cantor Fitzgerald consultant, World Trade Center.',\n",
       " \"Evan Hunter Gillette, 40, New York City, Sandler O'Neill + Partners, World Trade Center.\",\n",
       " 'Ronald Lawrence Gilligan, 43, Cantor Fitzgerald, World Trade Center.',\n",
       " 'Rodney C. Gillis, 33, Brooklyn, N.Y., New York City Police Department, World Trade Center.',\n",
       " 'Laura Gilly, 32, Brooklyn, N.Y., Cantor Fitzgerald, World Trade Center.',\n",
       " 'John F. Ginley, 37, Warwick, N.Y., New York City Fire Department, World Trade Center.',\n",
       " 'Donna Marie Giordano, 44, Aon Corporation, World Trade Center.',\n",
       " 'Jeffrey John Giordano, 45, New York City Fire Department, World Trade Center.',\n",
       " 'John Giordano, 47, New York City Fire Department, World Trade Center.',\n",
       " 'Steven A. Giorgetti, 43, Manhasset, N.Y., Marsh&McLennan Companies, Inc., World Trade Center.',\n",
       " 'Martin Giovinazzo, 34, Marsh&McLennan Companies, Inc., World Trade Center.',\n",
       " 'Kum-Kum Girolamo, 41, Kew Gardens, N.Y., Aon Corporation, World Trade Center.',\n",
       " 'Salvatore Gitto, 44, Manalapan, N.J., Marsh&McLennan Companies, Inc., World Trade Center.',\n",
       " 'Cynthia Giugliano, 46, Nesconset, N.Y., Empire BlueCross BlueShield, World Trade Center.',\n",
       " 'Mon Gjonbalaj, 64, Bronx, N.Y., ABM Industries Inc., World Trade Center.',\n",
       " 'Dianne Gladstone, 55, Forest Hills, N.Y., New York State Department of Taxation and Finance, World Trade Center.',\n",
       " 'Keith Alexander Glascoe, 38, New York City Fire Department, World Trade Center.',\n",
       " \"Thomas Irwin Glasser, 40, Summit, N.J., Sandler O'Neill + Partners, World Trade Center.\",\n",
       " 'Edmund Glazer, 41, Passenger, United 11, World Trade Center.',\n",
       " 'Harry Glenn, 38, Piscataway, N.J., Marsh&McLennan Companies, Inc., World Trade Center.',\n",
       " 'Barry H. Glick, 55, Wayne, N.J., Port Authority of New York and New Jersey, World Trade Center.',\n",
       " 'Jeremy Logan Glick, 31, Hewitt, N.J., Passenger, United 93, Shanksville, Pa.',\n",
       " 'Steven Glick, 42, Risk Waters Group conference, World Trade Center.',\n",
       " 'John T. Gnazzo, 32, Cantor Fitzgerald, World Trade Center.',\n",
       " 'William Robert Godshalk, 35, New York City, Keefe, Bruyette&Woods, Inc., World Trade Center.',\n",
       " 'Michael Gogliormella, 43, New Providence, N.J., Cantor Fitzgerald, World Trade Center.',\n",
       " 'Brian F. Goldberg, 26, Union, N.J., Fiduciary Trust Company International, World Trade Center.',\n",
       " 'Jeffrey G. Goldflam, 48, Melville, N.Y., Cantor Fitzgerald, World Trade Center.',\n",
       " 'Michelle Goldstein, 31, New York City, Aon Corporation, World Trade Center.',\n",
       " 'Monica Goldstein, 25, Staten Island, N.Y., Cantor Fitzgerald, World Trade Center.',\n",
       " 'Steven Ian Goldstein, 35, Princeton, N.J., Cantor Fitzgerald, World Trade Center.',\n",
       " 'Ronald F. Golinski, 60, Columbia, Md., United States Army Civilian, Pentagon.',\n",
       " 'Andrew H. Golkin, 30, New York City, Cantor Fitzgerald, World Trade Center.',\n",
       " 'Dennis James Gomes, 40, Fiduciary Trust Company International, World Trade Center.',\n",
       " 'Enrique Antonio Gomez, 42, Windows on the World, World Trade Center.',\n",
       " 'Jose Bienvenido Gomez, 45, New York, Windows on the World, World Trade Center.',\n",
       " 'Manuel Gomez, Jr., 42, Fuji Bank, Ltd., World Trade Center.',\n",
       " 'Wilder Alfredo Gomez, 37, Windows on the World, World Trade Center.',\n",
       " ...]"
      ]
     },
     "metadata": {},
     "execution_count": 6
    }
   ],
   "source": [
    "(grouped_lines\n",
    ">> map(add_missing_period)\n",
    ">> map(fix_world_trade)\n",
    ")"
   ]
  },
  {
   "cell_type": "code",
   "execution_count": 7,
   "metadata": {},
   "outputs": [
    {
     "output_type": "execute_result",
     "data": {
      "text/plain": [
       "[\"Gordon M. Aamoth, Jr., 32, Sandler O'Neill + Partners, World Trade Center.\",\n",
       " 'Edelmiro Abad, 54, Brooklyn, N.Y., Fiduciary Trust Company International, World Trade Center.',\n",
       " 'Marie Rose Abad, 49, Keefe, Bruyette&Woods, Inc., World Trade Center.',\n",
       " 'Andrew Anthony Abate, 37, Melville, N.Y., Cantor Fitzgerald, World Trade Center.',\n",
       " 'Vincent Paul Abate, 40, Brooklyn, N.Y., Cantor Fitzgerald, World Trade Center.',\n",
       " 'Laurence Christopher Abel, 37, New York City, Cantor Fitzgerald, World Trade Center.',\n",
       " 'Alona Abraham, 30, Ashdod, Israel, Passenger, United 175, World Trade Center.',\n",
       " 'William F. Abrahamson, 55, Westchester County, N.Y., Marsh&McLennan Companies, Inc., World Trade Center.',\n",
       " 'Richard Anthony Aceto, 42, Marsh&McLennan Companies, Inc., World Trade Center.',\n",
       " 'Heinrich Bernhard Ackermann, 38, Aon Corporation, World Trade Center.',\n",
       " 'Paul Acquaviva, 29, Glen Rock, N.J., Cantor Fitzgerald, World Trade Center.',\n",
       " 'Christian Adams, 37, Passenger, United 93, Shanksville, Pa.',\n",
       " 'Donald LaRoy Adams, 28, Cantor Fitzgerald, World Trade Center.',\n",
       " 'Patrick Adams, 61, Fuji Bank, Ltd. security, World Trade Center.',\n",
       " 'Shannon Lewis Adams, 25, Cantor Fitzgerald, World Trade Center.',\n",
       " 'Stephen George Adams, 51, New York City, Windows on the World, World Trade Center.',\n",
       " 'Ignatius Udo Adanga, 62, Bronx, N.Y., New York Metropolitan Transportation Council, World Trade Center.',\n",
       " 'Christy A. Addamo, 28, New Hyde Park, N.Y., Marsh&McLennan Companies, Inc., World Trade Center.',\n",
       " 'Terence Edward Adderley, Jr., 22, New York City, Fred Alger Management, Inc., World Trade Center.',\n",
       " 'Sophia B. Addo, 36, Bronx, N.Y., Windows on the World, World Trade Center.']"
      ]
     },
     "metadata": {},
     "execution_count": 7
    }
   ],
   "source": [
    "# For convenience I will give these a name\n",
    "prepped_lines = (grouped_lines \n",
    "                >> map(add_missing_period)\n",
    "                >> map(fix_world_trade)\n",
    "                )\n",
    "prepped_lines[:20]"
   ]
  },
  {
   "cell_type": "markdown",
   "metadata": {},
   "source": [
    "## Regular expression from lab 2\n",
    "\n",
    "Below I have attempted to combine all of the regular expressions from lab 2"
   ]
  },
  {
   "cell_type": "code",
   "execution_count": 8,
   "metadata": {},
   "outputs": [],
   "source": [
    "import re\n",
    "line_parts = re.compile('^(.+), (\\?\\?|\\d{1,3}),(.*?)( Passenger,| Flight Crew,)?( United \\d{2,3},| American \\d{2,3},)?( World Trade Center| Pentagon| Shanksville, Pa)(, died \\d{1,2}/\\d{1,2}/\\d{1,2})?\\.$')"
   ]
  },
  {
   "cell_type": "code",
   "execution_count": 9,
   "metadata": {},
   "outputs": [
    {
     "output_type": "execute_result",
     "data": {
      "text/plain": [
       "'Jesus Sanchez, 45, Flight Crew, United 175, World Trade Center.'"
      ]
     },
     "metadata": {},
     "execution_count": 9
    }
   ],
   "source": [
    "prepped_lines[2402]"
   ]
  },
  {
   "cell_type": "code",
   "execution_count": 10,
   "metadata": {},
   "outputs": [
    {
     "output_type": "execute_result",
     "data": {
      "text/plain": [
       "('Jesus Sanchez',\n",
       " '45',\n",
       " '',\n",
       " ' Flight Crew,',\n",
       " ' United 175,',\n",
       " ' World Trade Center',\n",
       " None)"
      ]
     },
     "metadata": {},
     "execution_count": 10
    }
   ],
   "source": [
    "line_parts.search(prepped_lines[2402]).groups()"
   ]
  },
  {
   "cell_type": "markdown",
   "metadata": {},
   "source": [
    "#### Always check for non-matches"
   ]
  },
  {
   "cell_type": "code",
   "execution_count": 11,
   "metadata": {},
   "outputs": [
    {
     "output_type": "execute_result",
     "data": {
      "text/plain": [
       "[]"
      ]
     },
     "metadata": {},
     "execution_count": 11
    }
   ],
   "source": [
    "[(i, l) for i, l in enumerate(prepped_lines) if not line_parts.search(l)]"
   ]
  },
  {
   "cell_type": "markdown",
   "metadata": {},
   "source": [
    "## Verbose regular expressions\n",
    "\n",
    "**Pros:**\n",
    "* Spread over multiple lines\n",
    "* Allow comments\n",
    "\n",
    "**Cons:**\n",
    "* Ignore white space outside `()`\n",
    "* Require escaping spaces `\\ `"
   ]
  },
  {
   "cell_type": "code",
   "execution_count": 11,
   "metadata": {},
   "outputs": [],
   "source": [
    "# Without Using VERBOSE \n",
    "regex_email = re.compile(r'^([a-z0-9_\\.-]+)@([0-9a-z\\.-]+)\\.([a-z\\.]{2, 6})$')"
   ]
  },
  {
   "cell_type": "code",
   "execution_count": 12,
   "metadata": {},
   "outputs": [],
   "source": [
    "# Using VERBOSE \n",
    "regex_email = re.compile(r\"\"\" \n",
    "                        ^([a-z0-9_\\.-]+)\t\t\t # local Part \n",
    "                        @\t\t\t\t\t\t\t # single @ sign \n",
    "                        ([0-9a-z\\.-]+)\t\t\t \t # Domain name \n",
    "                        \\.\t\t\t\t\t\t \t # single Dot . \n",
    "                        ([a-z]{2,6})$\t\t\t\t # Top level Domain \n",
    "                        \"\"\",re.VERBOSE)"
   ]
  },
  {
   "cell_type": "markdown",
   "metadata": {},
   "source": [
    "## Another example.\n",
    "\n",
    "This example, from the Python docs, shows how to space out an OR section across multiple lines."
   ]
  },
  {
   "cell_type": "code",
   "execution_count": 13,
   "metadata": {},
   "outputs": [],
   "source": [
    "charref = re.compile(r\"\"\"\n",
    " &[#]                # Start of a numeric entity reference\n",
    " (\n",
    "     0[0-7]+         # Octal form\n",
    "   | [0-9]+          # Decimal form\n",
    "   | x[0-9a-fA-F]+   # Hexadecimal form\n",
    " )\n",
    " ;                   # Trailing semicolon\n",
    "\"\"\", re.VERBOSE)"
   ]
  },
  {
   "cell_type": "markdown",
   "metadata": {},
   "source": [
    "## Cleaning up our regular expr"
   ]
  },
  {
   "cell_type": "markdown",
   "metadata": {},
   "source": [
    "<h2> <font color=\"red\"> Exercise 4.6.1 - Clean up the regular expression </font> </h2>\n",
    "\n",
    "To clean up the regular expression, \n",
    "\n",
    "1. Replace all spaces with `\\ ` or `\\s` (I prefer the second)\n",
    "2. Turn the string into a multi-line string.\n",
    "3. Spread the parts over many lines\n",
    "4. Add comments."
   ]
  },
  {
   "cell_type": "markdown",
   "metadata": {},
   "source": [
    "In the following strucutre, spaces are reconginzed as formatting, not as actualt regex characters. At a minimun, the spaces need to be replaces with at least \\ "
   ]
  },
  {
   "cell_type": "code",
   "execution_count": 15,
   "metadata": {},
   "outputs": [],
   "source": [
    "line_parts2 = re.compile(r\"\"\"\n",
    "\n",
    "^(.+),\\s        #front part\n",
    "    (\n",
    "    \\?\\?|\\d{1,3}),(.*?)(\\sPassenger,|   #may be a passenger\n",
    "    \\sFlight Crew,                      #or flight crew\n",
    "    )?                                  #or neither\n",
    "\n",
    "    (\n",
    "        \\sUnited\\s\\d{2,3},|             #may have been on an american flight\n",
    "        \\sAmerican\\s\\d{2,3},            #a United Flight\n",
    "    )?                                  #or neither\n",
    "    ( \n",
    "        \\sWorld\\sTrade\\sCenter|         #could have died at WTC\n",
    "        \\sPentagon|                     #Pentagon\n",
    "        \\sShanksville,\\sPa              #or PN\n",
    "    )\n",
    "    (\n",
    "        ,\\sdied\\s\\d{1,2}/\\d{1,2}/\\d{1,2}#grab trailing details if they exist\n",
    "    )?\n",
    "    \\.$\n",
    "     \n",
    "    \n",
    "    \n",
    "\"\"\",re.VERBOSE\n",
    ")"
   ]
  },
  {
   "cell_type": "code",
   "execution_count": 17,
   "metadata": {},
   "outputs": [
    {
     "output_type": "execute_result",
     "data": {
      "text/plain": [
       "('Jesus Sanchez',\n",
       " '45',\n",
       " ' Flight Crew,',\n",
       " None,\n",
       " ' United 175,',\n",
       " ' World Trade Center',\n",
       " None)"
      ]
     },
     "metadata": {},
     "execution_count": 17
    }
   ],
   "source": [
    "line_parts2.search(prepped_lines[2402]).groups() #looks good"
   ]
  },
  {
   "cell_type": "code",
   "execution_count": 16,
   "metadata": {},
   "outputs": [
    {
     "output_type": "execute_result",
     "data": {
      "text/plain": [
       "[]"
      ]
     },
     "metadata": {},
     "execution_count": 16
    }
   ],
   "source": [
    "[(i, l) for i, l in enumerate(prepped_lines) if not line_parts2.search(l)] #catches everything"
   ]
  },
  {
   "cell_type": "markdown",
   "metadata": {},
   "source": [
    "## Progress so far"
   ]
  },
  {
   "cell_type": "code",
   "execution_count": 18,
   "metadata": {},
   "outputs": [],
   "source": [
    "# Imports\n",
    "from composable import pipeable\n",
    "from composable.strict import map"
   ]
  },
  {
   "cell_type": "code",
   "execution_count": 19,
   "metadata": {},
   "outputs": [],
   "source": [
    "# Reg Ex for a line\n",
    "line_parts = re.compile(r'''^(.+),\n",
    "(\n",
    "      \\s\\?\\?                          # ??\n",
    "    | \\s\\d{1,3}                       # or age\n",
    "),\n",
    "(.*?)                                 # Includes hometown and \n",
    "(\n",
    "        \\sPassenger,                  # Optional flight status\n",
    "    |   \\sFlightsCrew,\n",
    ")?\n",
    "(\n",
    "      \\sUnited\\s\\d{2,3},              # Optional flight\n",
    "    | \\sAmericans\\d{2,3},\n",
    ")?\n",
    "(\n",
    "       \\sWorld\\sTrade\\sCenter         # Location\n",
    "    |  \\sPentagon\n",
    "    |  \\sShanksville,\\sPa\n",
    ")\n",
    "(\n",
    "    ,\\sdied\\s\\d{1,2}/\\d{1,2}/\\d{1,2}  # Optional date of death\n",
    ")?\n",
    "\\.$''', re.VERBOSE)"
   ]
  },
  {
   "cell_type": "code",
   "execution_count": 20,
   "metadata": {},
   "outputs": [],
   "source": [
    "# Helper functions\n",
    "add_missing_period = pipeable(lambda line: line if line.endswith('.') else line + '.' )\n",
    "fix_world_trade = pipeable(lambda line: line.replace('WorldTrade', 'World Trade'))\n",
    "# New\n",
    "get_line_parts = pipeable(lambda line: line_parts.search(line).groups(default=''))"
   ]
  },
  {
   "cell_type": "code",
   "execution_count": 18,
   "metadata": {},
   "outputs": [
    {
     "output_type": "execute_result",
     "data": {
      "text/plain": [
       "[]"
      ]
     },
     "metadata": {},
     "execution_count": 18
    }
   ],
   "source": [
    "[(i, l) for i, l in enumerate(prepped_lines) if not line_parts.search(l)]"
   ]
  },
  {
   "cell_type": "code",
   "execution_count": 23,
   "metadata": {},
   "outputs": [
    {
     "output_type": "execute_result",
     "data": {
      "text/plain": [
       "[('Gordon M. Aamoth, Jr.',\n",
       "  ' 32',\n",
       "  \" Sandler O'Neill + Partners,\",\n",
       "  '',\n",
       "  '',\n",
       "  ' World Trade Center',\n",
       "  ''),\n",
       " ('Edelmiro Abad',\n",
       "  ' 54',\n",
       "  ' Brooklyn, N.Y., Fiduciary Trust Company International,',\n",
       "  '',\n",
       "  '',\n",
       "  ' World Trade Center',\n",
       "  ''),\n",
       " ('Marie Rose Abad',\n",
       "  ' 49',\n",
       "  ' Keefe, Bruyette&Woods, Inc.,',\n",
       "  '',\n",
       "  '',\n",
       "  ' World Trade Center',\n",
       "  ''),\n",
       " ('Andrew Anthony Abate',\n",
       "  ' 37',\n",
       "  ' Melville, N.Y., Cantor Fitzgerald,',\n",
       "  '',\n",
       "  '',\n",
       "  ' World Trade Center',\n",
       "  ''),\n",
       " ('Vincent Paul Abate',\n",
       "  ' 40',\n",
       "  ' Brooklyn, N.Y., Cantor Fitzgerald,',\n",
       "  '',\n",
       "  '',\n",
       "  ' World Trade Center',\n",
       "  '')]"
      ]
     },
     "metadata": {},
     "execution_count": 23
    }
   ],
   "source": [
    "split_lines =  (grouped_lines\n",
    "                >> map(add_missing_period)\n",
    "                >> map(fix_world_trade)\n",
    "                >> map(get_line_parts)\n",
    "                )\n",
    "split_lines[0:5]"
   ]
  },
  {
   "cell_type": "markdown",
   "metadata": {},
   "source": [
    "## Pulling out and cleaning up names\n",
    "\n",
    "Sometimes it is useful to pull the various columns apart and clean them up separately.  To illustrate, will will pull out and clean up the names. We can do this using the `get` function from `toolz.curried` which *gets* the value from a list at a given index."
   ]
  },
  {
   "cell_type": "code",
   "execution_count": 24,
   "metadata": {},
   "outputs": [],
   "source": [
    "from toolz.curried import get"
   ]
  },
  {
   "cell_type": "code",
   "execution_count": 25,
   "metadata": {},
   "outputs": [
    {
     "output_type": "execute_result",
     "data": {
      "text/plain": [
       "['Gordon M. Aamoth, Jr.',\n",
       " 'Edelmiro Abad',\n",
       " 'Marie Rose Abad',\n",
       " 'Andrew Anthony Abate',\n",
       " 'Vincent Paul Abate',\n",
       " 'Laurence Christopher Abel',\n",
       " 'Alona Abraham',\n",
       " 'William F. Abrahamson',\n",
       " 'Richard Anthony Aceto',\n",
       " 'Heinrich Bernhard Ackermann']"
      ]
     },
     "metadata": {},
     "execution_count": 25
    }
   ],
   "source": [
    "(split_lines\n",
    ">> map(get(0))\n",
    ")[0:10]"
   ]
  },
  {
   "cell_type": "markdown",
   "metadata": {},
   "source": [
    "Now we can clean up these name by removing commas."
   ]
  },
  {
   "cell_type": "code",
   "execution_count": 26,
   "metadata": {},
   "outputs": [
    {
     "output_type": "execute_result",
     "data": {
      "text/plain": [
       "['Gordon M. Aamoth Jr.',\n",
       " 'Edelmiro Abad',\n",
       " 'Marie Rose Abad',\n",
       " 'Andrew Anthony Abate',\n",
       " 'Vincent Paul Abate',\n",
       " 'Laurence Christopher Abel',\n",
       " 'Alona Abraham',\n",
       " 'William F. Abrahamson',\n",
       " 'Richard Anthony Aceto',\n",
       " 'Heinrich Bernhard Ackermann',\n",
       " 'Paul Acquaviva',\n",
       " 'Christian Adams',\n",
       " 'Donald LaRoy Adams',\n",
       " 'Patrick Adams',\n",
       " 'Shannon Lewis Adams',\n",
       " 'Stephen George Adams',\n",
       " 'Ignatius Udo Adanga',\n",
       " 'Christy A. Addamo',\n",
       " 'Terence Edward Adderley Jr.',\n",
       " 'Sophia B. Addo',\n",
       " 'Lee Adler',\n",
       " 'Daniel Thomas Afflitto',\n",
       " 'Emmanuel Akwasi Afuakwah',\n",
       " 'Alok Agarwal',\n",
       " 'Mukul Kumar Agarwala',\n",
       " 'Joseph Agnello',\n",
       " 'David Scott Agnes',\n",
       " 'Joao Alberto da Fonseca Aguiar Jr.',\n",
       " 'Brian G. Ahearn',\n",
       " 'Jeremiah Joseph Ahern']"
      ]
     },
     "metadata": {},
     "execution_count": 26
    }
   ],
   "source": [
    "remove_commas = lambda s: s.replace(',', '')\n",
    "\n",
    "(split_lines\n",
    ">> map(get(0))\n",
    ">> map(remove_commas)\n",
    ")[0:30]"
   ]
  },
  {
   "cell_type": "markdown",
   "metadata": {},
   "source": [
    "## Pulling out and cleaning up ages\n",
    "\n",
    "NExt, we will pull out and clean the ages.  In this case, we should replace the missing values, currently `'??'`, to blanks."
   ]
  },
  {
   "cell_type": "code",
   "execution_count": 27,
   "metadata": {},
   "outputs": [
    {
     "output_type": "execute_result",
     "data": {
      "text/plain": [
       "[' 32',\n",
       " ' 54',\n",
       " ' 49',\n",
       " ' 37',\n",
       " ' 40',\n",
       " ' 37',\n",
       " ' 30',\n",
       " ' 55',\n",
       " ' 42',\n",
       " ' 38',\n",
       " ' 29',\n",
       " ' 37',\n",
       " ' 28',\n",
       " ' 61',\n",
       " ' 25',\n",
       " ' 51',\n",
       " ' 62',\n",
       " ' 28',\n",
       " ' 22',\n",
       " ' 36',\n",
       " ' 48',\n",
       " ' 32',\n",
       " ' 37',\n",
       " ' 36',\n",
       " ' 37',\n",
       " ' 35',\n",
       " ' 46',\n",
       " ' 30',\n",
       " ' 43',\n",
       " ' 74']"
      ]
     },
     "metadata": {},
     "execution_count": 27
    }
   ],
   "source": [
    "remove_quest_mark = lambda s: s.replace('??', '')\n",
    "\n",
    "(split_lines\n",
    ">> map(get(1))\n",
    ">> map(remove_quest_mark)\n",
    ")[0:30]"
   ]
  },
  {
   "cell_type": "markdown",
   "metadata": {},
   "source": [
    "## Progress so far"
   ]
  },
  {
   "cell_type": "code",
   "execution_count": 28,
   "metadata": {},
   "outputs": [],
   "source": [
    "# Imports\n",
    "from composable import pipeable\n",
    "from composable.strict import map"
   ]
  },
  {
   "cell_type": "code",
   "execution_count": 29,
   "metadata": {},
   "outputs": [],
   "source": [
    "# Reg Ex for a line\n",
    "line_parts = re.compile(r'''^(.+),\n",
    "(\n",
    "      \\s\\?\\?                          # ??\n",
    "    | \\s\\d{1,3}                       # or age\n",
    "),\n",
    "(.*?)                                 # Includes hometown and \n",
    "(\n",
    "        \\sPassenger,                  # Optional flight status\n",
    "    |   \\sFlightsCrew,\n",
    ")?\n",
    "(\n",
    "      \\sUnited\\s\\d{2,3},              # Optional flight\n",
    "    | \\sAmericans\\d{2,3},\n",
    ")?\n",
    "(\n",
    "       \\sWorld\\sTrade\\sCenter         # Location\n",
    "    |  \\sPentagon\n",
    "    |  \\sShanksville,\\sPa\n",
    ")\n",
    "(\n",
    "    ,\\sdied\\s\\d{1,2}/\\d{1,2}/\\d{1,2}  # Optional date of death\n",
    ")?\n",
    "\\.$''', re.VERBOSE)"
   ]
  },
  {
   "cell_type": "code",
   "execution_count": 30,
   "metadata": {},
   "outputs": [],
   "source": [
    "# Helper functions\n",
    "add_missing_period = pipeable(lambda line: line if line.endswith('.') else line + '.' )\n",
    "fix_world_trade = pipeable(lambda line: line.replace('WorldTrade', 'World Trade'))\n",
    "get_line_parts = pipeable(lambda line: line_parts.search(line).groups(default=''))\n",
    "# New\n",
    "remove_commas = lambda s: s.replace(',', '')\n",
    "remove_quest_mark = lambda s: s.replace('??', '')"
   ]
  },
  {
   "cell_type": "code",
   "execution_count": 27,
   "metadata": {},
   "outputs": [
    {
     "output_type": "execute_result",
     "data": {
      "text/plain": [
       "[]"
      ]
     },
     "metadata": {},
     "execution_count": 27
    }
   ],
   "source": [
    "[(i, l) for i, l in enumerate(prepped_lines) if not line_parts.search(l)]"
   ]
  },
  {
   "cell_type": "code",
   "execution_count": 31,
   "metadata": {},
   "outputs": [
    {
     "output_type": "execute_result",
     "data": {
      "text/plain": [
       "[('Gordon M. Aamoth, Jr.',\n",
       "  ' 32',\n",
       "  \" Sandler O'Neill + Partners,\",\n",
       "  '',\n",
       "  '',\n",
       "  ' World Trade Center',\n",
       "  ''),\n",
       " ('Edelmiro Abad',\n",
       "  ' 54',\n",
       "  ' Brooklyn, N.Y., Fiduciary Trust Company International,',\n",
       "  '',\n",
       "  '',\n",
       "  ' World Trade Center',\n",
       "  ''),\n",
       " ('Marie Rose Abad',\n",
       "  ' 49',\n",
       "  ' Keefe, Bruyette&Woods, Inc.,',\n",
       "  '',\n",
       "  '',\n",
       "  ' World Trade Center',\n",
       "  ''),\n",
       " ('Andrew Anthony Abate',\n",
       "  ' 37',\n",
       "  ' Melville, N.Y., Cantor Fitzgerald,',\n",
       "  '',\n",
       "  '',\n",
       "  ' World Trade Center',\n",
       "  ''),\n",
       " ('Vincent Paul Abate',\n",
       "  ' 40',\n",
       "  ' Brooklyn, N.Y., Cantor Fitzgerald,',\n",
       "  '',\n",
       "  '',\n",
       "  ' World Trade Center',\n",
       "  '')]"
      ]
     },
     "metadata": {},
     "execution_count": 31
    }
   ],
   "source": [
    "split_lines =  (grouped_lines\n",
    "                >> map(add_missing_period)\n",
    "                >> map(fix_world_trade)\n",
    "                >> map(get_line_parts)\n",
    "                )\n",
    "split_lines[0:5]"
   ]
  },
  {
   "cell_type": "code",
   "execution_count": 67,
   "metadata": {},
   "outputs": [
    {
     "output_type": "execute_result",
     "data": {
      "text/plain": [
       "['Gordon M. Aamoth Jr.',\n",
       " 'Edelmiro Abad',\n",
       " 'Marie Rose Abad',\n",
       " 'Andrew Anthony Abate',\n",
       " 'Vincent Paul Abate',\n",
       " 'Laurence Christopher Abel',\n",
       " 'Alona Abraham',\n",
       " 'William F. Abrahamson',\n",
       " 'Richard Anthony Aceto',\n",
       " 'Heinrich Bernhard Ackermann',\n",
       " 'Paul Acquaviva',\n",
       " 'Christian Adams',\n",
       " 'Donald LaRoy Adams',\n",
       " 'Patrick Adams',\n",
       " 'Shannon Lewis Adams',\n",
       " 'Stephen George Adams',\n",
       " 'Ignatius Udo Adanga',\n",
       " 'Christy A. Addamo',\n",
       " 'Terence Edward Adderley Jr.',\n",
       " 'Sophia B. Addo',\n",
       " 'Lee Adler',\n",
       " 'Daniel Thomas Afflitto',\n",
       " 'Emmanuel Akwasi Afuakwah',\n",
       " 'Alok Agarwal',\n",
       " 'Mukul Kumar Agarwala',\n",
       " 'Joseph Agnello',\n",
       " 'David Scott Agnes',\n",
       " 'Joao Alberto da Fonseca Aguiar Jr.',\n",
       " 'Brian G. Ahearn',\n",
       " 'Jeremiah Joseph Ahern']"
      ]
     },
     "metadata": {},
     "execution_count": 67
    }
   ],
   "source": [
    "names =  (split_lines\n",
    "        >> map(get(0))\n",
    "        >> map(remove_commas)\n",
    "        )\n",
    "names[0:30]"
   ]
  },
  {
   "cell_type": "code",
   "execution_count": 236,
   "metadata": {},
   "outputs": [
    {
     "output_type": "execute_result",
     "data": {
      "text/plain": [
       "['32',\n",
       " '54',\n",
       " '49',\n",
       " '37',\n",
       " '40',\n",
       " '37',\n",
       " '30',\n",
       " '55',\n",
       " '42',\n",
       " '38',\n",
       " '29',\n",
       " '37',\n",
       " '28',\n",
       " '61',\n",
       " '25',\n",
       " '51',\n",
       " '62',\n",
       " '28',\n",
       " '22',\n",
       " '36',\n",
       " '48',\n",
       " '32',\n",
       " '37',\n",
       " '36',\n",
       " '37',\n",
       " '35',\n",
       " '46',\n",
       " '30',\n",
       " '43',\n",
       " '74']"
      ]
     },
     "metadata": {},
     "execution_count": 236
    }
   ],
   "source": [
    "ages =  (split_lines\n",
    "        >> map(get(1))\n",
    "        >> map(remove_quest_mark)\n",
    "        >> map(Strip_spaces) #I added this after the fact for consistancy\n",
    "        )\n",
    "ages[0:30]"
   ]
  },
  {
   "cell_type": "markdown",
   "metadata": {},
   "source": [
    "<h2> <font color=\"red\"> Exercise 4.6.2 - Separating and cleaning other columns. </font> </h2>\n",
    "\n",
    "To clean up the following columns \n",
    "\n",
    "1. Grab the date of death and replace the missing values with `9/11/2001`\n",
    "2. Grab the locations (e.g. `World Trade Center`) and remove the comma from `'Shanksville, Pa.`\n",
    "3. Grab the flights.\n",
    "4. Grab the passenger status.\n",
    "\n",
    "**Note:** Be sure to strip whitespace from all of them."
   ]
  },
  {
   "cell_type": "code",
   "execution_count": 37,
   "metadata": {},
   "outputs": [
    {
     "output_type": "execute_result",
     "data": {
      "text/plain": [
       "('Jesus Sanchez',\n",
       " ' 45',\n",
       " ' Flight Crew,',\n",
       " None,\n",
       " ' United 175,',\n",
       " ' World Trade Center',\n",
       " None)"
      ]
     },
     "metadata": {},
     "execution_count": 37
    }
   ],
   "source": [
    "line_parts.search(prepped_lines[2402]).groups()"
   ]
  },
  {
   "cell_type": "code",
   "execution_count": 69,
   "metadata": {},
   "outputs": [],
   "source": [
    "\n",
    "# Helper functions\n",
    "add_missing_period = pipeable(lambda line: line if line.endswith('.') else line + '.' )\n",
    "fix_world_trade = pipeable(lambda line: line.replace('WorldTrade', 'World Trade'))\n",
    "get_line_parts = pipeable(lambda line: line_parts.search(line).groups(default=''))\n",
    "\n",
    "# New\n",
    "remove_commas = lambda s: s.replace(',', '')\n",
    "remove_quest_mark = lambda s: s.replace('??', '')\n",
    "replace_blank_death = lambda s: '9/11/2001' if s == '' else s\n",
    "replace_01 = lambda s: s.replace('01', '2001')\n",
    "Strip_spaces = lambda s: s.strip()\n",
    "\n"
   ]
  },
  {
   "cell_type": "code",
   "execution_count": 48,
   "metadata": {},
   "outputs": [
    {
     "output_type": "execute_result",
     "data": {
      "text/plain": [
       "['9/11/2001',\n",
       " '9/11/2001',\n",
       " '9/11/2001',\n",
       " '9/11/2001',\n",
       " '9/11/2001',\n",
       " '9/11/2001',\n",
       " '9/11/2001',\n",
       " '9/11/2001',\n",
       " '9/11/2001',\n",
       " '9/11/2001',\n",
       " '9/11/2001',\n",
       " '9/11/2001',\n",
       " '9/11/2001',\n",
       " ', died 9/15/01',\n",
       " '9/11/2001',\n",
       " '9/11/2001',\n",
       " '9/11/2001',\n",
       " '9/11/2001',\n",
       " '9/11/2001',\n",
       " '9/11/2001']"
      ]
     },
     "metadata": {},
     "execution_count": 48
    }
   ],
   "source": [
    "#grab  death day, replace blanks with 9/11/2001\n",
    "\n",
    "deathdate =  (split_lines\n",
    "        >> map(get(6))\n",
    "        >> map(replace_blank_death)\n",
    "        )\n",
    "deathdate[20:40]\n",
    "\n",
    "\n"
   ]
  },
  {
   "cell_type": "code",
   "execution_count": 235,
   "metadata": {},
   "outputs": [
    {
     "output_type": "execute_result",
     "data": {
      "text/plain": [
       "['World Trade Center',\n",
       " 'World Trade Center',\n",
       " 'World Trade Center',\n",
       " 'World Trade Center',\n",
       " 'World Trade Center',\n",
       " 'World Trade Center',\n",
       " 'World Trade Center',\n",
       " 'World Trade Center',\n",
       " 'World Trade Center',\n",
       " 'World Trade Center',\n",
       " 'World Trade Center',\n",
       " 'Shanksville Pa',\n",
       " 'World Trade Center',\n",
       " 'World Trade Center',\n",
       " 'World Trade Center']"
      ]
     },
     "metadata": {},
     "execution_count": 235
    }
   ],
   "source": [
    "#Grab the death location and remove comma from Shanksville Pa\n",
    "\n",
    "deathlocation =  (split_lines\n",
    "        >> map(get(5))\n",
    "        >> map(remove_commas)\n",
    "        >> map(Strip_spaces)\n",
    "        )\n",
    "deathlocation[0:15]\n"
   ]
  },
  {
   "cell_type": "code",
   "execution_count": 72,
   "metadata": {},
   "outputs": [
    {
     "output_type": "execute_result",
     "data": {
      "text/plain": [
       "['',\n",
       " '',\n",
       " '',\n",
       " '',\n",
       " '',\n",
       " '',\n",
       " 'United 175,',\n",
       " '',\n",
       " '',\n",
       " '',\n",
       " '',\n",
       " 'United 93,',\n",
       " '',\n",
       " '',\n",
       " '',\n",
       " '',\n",
       " '',\n",
       " '',\n",
       " '',\n",
       " '']"
      ]
     },
     "metadata": {},
     "execution_count": 72
    }
   ],
   "source": [
    "#grabbing the flight and removing trailing and leading whitespace\n",
    "\n",
    "flight =  (split_lines\n",
    "        >> map(get(4))\n",
    "        >> map(Strip_spaces)\n",
    "        )\n",
    "flight[0:20]\n"
   ]
  },
  {
   "cell_type": "code",
   "execution_count": 83,
   "metadata": {},
   "outputs": [
    {
     "output_type": "execute_result",
     "data": {
      "text/plain": [
       "['',\n",
       " '',\n",
       " '',\n",
       " '',\n",
       " '',\n",
       " '',\n",
       " 'Passenger,',\n",
       " '',\n",
       " '',\n",
       " '',\n",
       " '',\n",
       " 'Passenger,',\n",
       " '',\n",
       " '',\n",
       " '',\n",
       " '',\n",
       " '',\n",
       " '',\n",
       " '',\n",
       " '']"
      ]
     },
     "metadata": {},
     "execution_count": 83
    }
   ],
   "source": [
    "#grab passenger status and strip spaces\n",
    "\n",
    "\n",
    "passstatus =  (split_lines\n",
    "        >> map(get(3))\n",
    "        >> map(Strip_spaces)\n",
    "        )\n",
    "passstatus[0:20] \n"
   ]
  },
  {
   "cell_type": "markdown",
   "metadata": {},
   "source": [
    "## Grabbing the troubling bit\n",
    "\n",
    "We have made significant progress, but still need to work on the third entry, which contains the hometown and employment information.  Again, we can do this using the `get` function from `toolz.curried` which *gets* the value from a list at a given index."
   ]
  },
  {
   "cell_type": "code",
   "execution_count": 33,
   "metadata": {},
   "outputs": [
    {
     "output_type": "execute_result",
     "data": {
      "text/plain": [
       "[\" Sandler O'Neill + Partners,\",\n",
       " ' Brooklyn, N.Y., Fiduciary Trust Company International,',\n",
       " ' Keefe, Bruyette&Woods, Inc.,',\n",
       " ' Melville, N.Y., Cantor Fitzgerald,',\n",
       " ' Brooklyn, N.Y., Cantor Fitzgerald,',\n",
       " ' New York City, Cantor Fitzgerald,',\n",
       " ' Ashdod, Israel,',\n",
       " ' Westchester County, N.Y., Marsh&McLennan Companies, Inc.,',\n",
       " ' Marsh&McLennan Companies, Inc.,',\n",
       " ' Aon Corporation,',\n",
       " ' Glen Rock, N.J., Cantor Fitzgerald,',\n",
       " '',\n",
       " ' Cantor Fitzgerald,',\n",
       " ' Fuji Bank, Ltd. security,',\n",
       " ' Cantor Fitzgerald,',\n",
       " ' New York City, Windows on the World,',\n",
       " ' Bronx, N.Y., New York Metropolitan Transportation Council,',\n",
       " ' New Hyde Park, N.Y., Marsh&McLennan Companies, Inc.,',\n",
       " ' New York City, Fred Alger Management, Inc.,',\n",
       " ' Bronx, N.Y., Windows on the World,']"
      ]
     },
     "metadata": {},
     "execution_count": 33
    }
   ],
   "source": [
    "troubling_bit = (split_lines\n",
    "                >> map(get(2))\n",
    "                )\n",
    "troubling_bit[:20]"
   ]
  },
  {
   "cell_type": "markdown",
   "metadata": {},
   "source": [
    "## Progressively filtering out states\n",
    "\n",
    "We will start by matching two of the most common states, NY and NJ."
   ]
  },
  {
   "cell_type": "code",
   "execution_count": 34,
   "metadata": {
    "scrolled": true
   },
   "outputs": [
    {
     "output_type": "execute_result",
     "data": {
      "text/plain": [
       "[(\" Sandler O'Neill + Partners,\", None),\n",
       " (' Brooklyn, N.Y., Fiduciary Trust Company International,',\n",
       "  <re.Match object; span=(9, 16), match=', N.Y.,'>),\n",
       " (' Keefe, Bruyette&Woods, Inc.,', None),\n",
       " (' Melville, N.Y., Cantor Fitzgerald,',\n",
       "  <re.Match object; span=(9, 16), match=', N.Y.,'>),\n",
       " (' Brooklyn, N.Y., Cantor Fitzgerald,',\n",
       "  <re.Match object; span=(9, 16), match=', N.Y.,'>),\n",
       " (' New York City, Cantor Fitzgerald,', None),\n",
       " (' Ashdod, Israel,', None),\n",
       " (' Westchester County, N.Y., Marsh&McLennan Companies, Inc.,',\n",
       "  <re.Match object; span=(19, 26), match=', N.Y.,'>),\n",
       " (' Marsh&McLennan Companies, Inc.,', None),\n",
       " (' Aon Corporation,', None),\n",
       " (' Glen Rock, N.J., Cantor Fitzgerald,',\n",
       "  <re.Match object; span=(10, 17), match=', N.J.,'>),\n",
       " ('', None),\n",
       " (' Cantor Fitzgerald,', None),\n",
       " (' Fuji Bank, Ltd. security,', None),\n",
       " (' Cantor Fitzgerald,', None),\n",
       " (' New York City, Windows on the World,', None),\n",
       " (' Bronx, N.Y., New York Metropolitan Transportation Council,',\n",
       "  <re.Match object; span=(6, 13), match=', N.Y.,'>),\n",
       " (' New Hyde Park, N.Y., Marsh&McLennan Companies, Inc.,',\n",
       "  <re.Match object; span=(14, 21), match=', N.Y.,'>),\n",
       " (' New York City, Fred Alger Management, Inc.,', None),\n",
       " (' Bronx, N.Y., Windows on the World,',\n",
       "  <re.Match object; span=(6, 13), match=', N.Y.,'>)]"
      ]
     },
     "metadata": {},
     "execution_count": 34
    }
   ],
   "source": [
    "state = re.compile(', (N\\.Y\\.|N\\.J\\.),?')\n",
    "# Rows that match\n",
    "[(l, state.search(l)) for l in troubling_bit][:20]"
   ]
  },
  {
   "cell_type": "markdown",
   "metadata": {},
   "source": [
    "and inspecting all rows that don't match for additional states or problems"
   ]
  },
  {
   "cell_type": "code",
   "execution_count": 35,
   "metadata": {},
   "outputs": [
    {
     "output_type": "execute_result",
     "data": {
      "text/plain": [
       "[(0, \" Sandler O'Neill + Partners,\"),\n",
       " (2, ' Keefe, Bruyette&Woods, Inc.,'),\n",
       " (5, ' New York City, Cantor Fitzgerald,'),\n",
       " (6, ' Ashdod, Israel,'),\n",
       " (8, ' Marsh&McLennan Companies, Inc.,'),\n",
       " (9, ' Aon Corporation,'),\n",
       " (11, ''),\n",
       " (12, ' Cantor Fitzgerald,'),\n",
       " (13, ' Fuji Bank, Ltd. security,'),\n",
       " (14, ' Cantor Fitzgerald,'),\n",
       " (15, ' New York City, Windows on the World,'),\n",
       " (18, ' New York City, Fred Alger Management, Inc.,'),\n",
       " (20, ' Cantor Fitzgerald,'),\n",
       " (22, ' Windows on the World,'),\n",
       " (23, ' Cantor Fitzgerald,'),\n",
       " (24, ' Fiduciary Trust Company International,'),\n",
       " (29, ' New Jersey, New York State Department of Taxation and Finance,'),\n",
       " (32, ' Marsh&McLennan consultant,'),\n",
       " (33, ' Summit Security Services, Inc.,'),\n",
       " (34, ' New York City, Marsh&McLennan Companies, Inc.,')]"
      ]
     },
     "metadata": {},
     "execution_count": 35
    }
   ],
   "source": [
    "[(i, l) for i, l in enumerate(troubling_bit) if not state.search(l)][:20]"
   ]
  },
  {
   "cell_type": "markdown",
   "metadata": {},
   "source": [
    "## Fixing a common problem.\n",
    "\n",
    "Notice that many rows simply contain ` New York City,` without the state.  Let's fix this problem in our preprocessing step."
   ]
  },
  {
   "cell_type": "code",
   "execution_count": 36,
   "metadata": {},
   "outputs": [
    {
     "output_type": "execute_result",
     "data": {
      "text/plain": [
       "'David D. Alger, 57, New York City, Fred Alger Management, Inc., World Trade Center.'"
      ]
     },
     "metadata": {},
     "execution_count": 36
    }
   ],
   "source": [
    "grouped_lines[41]"
   ]
  },
  {
   "cell_type": "code",
   "execution_count": 36,
   "metadata": {},
   "outputs": [
    {
     "output_type": "execute_result",
     "data": {
      "text/plain": [
       "'David D. Alger, 57, New York City, N.Y., Fred Alger Management, Inc., World Trade Center.'"
      ]
     },
     "metadata": {},
     "execution_count": 36
    }
   ],
   "source": [
    "fix_nyc = pipeable(lambda line: line.replace(', New York City,', ', New York City, N.Y.,'))\n",
    "grouped_lines[41] >> fix_nyc"
   ]
  },
  {
   "cell_type": "markdown",
   "metadata": {},
   "source": [
    "## Progress so far"
   ]
  },
  {
   "cell_type": "code",
   "execution_count": 89,
   "metadata": {},
   "outputs": [],
   "source": [
    "# Imports\n",
    "from composable import pipeable\n",
    "from composable.strict import map"
   ]
  },
  {
   "cell_type": "code",
   "execution_count": 90,
   "metadata": {},
   "outputs": [],
   "source": [
    "# Reg Ex for a line\n",
    "line_parts = re.compile(r'''^(.+),\n",
    "(\n",
    "      \\s\\?\\?                          # ??\n",
    "    | \\s\\d{1,3}                       # or age\n",
    "),\n",
    "(.*?)                                 # Includes hometown and \n",
    "(\n",
    "        \\sPassenger,                  # Optional flight status\n",
    "    |   \\sFlightsCrew,\n",
    ")?\n",
    "(\n",
    "      \\sUnited\\s\\d{2,3},              # Optional flight\n",
    "    | \\sAmericans\\d{2,3},\n",
    ")?\n",
    "(\n",
    "       \\sWorld\\sTrade\\sCenter         # Location\n",
    "    |  \\sPentagon\n",
    "    |  \\sShanksville,\\sPa\n",
    ")\n",
    "(\n",
    "    ,\\sdied\\s\\d{1,2}/\\d{1,2}/\\d{1,2}  # Optional date of death\n",
    ")?\n",
    "\\.$''', re.VERBOSE)"
   ]
  },
  {
   "cell_type": "code",
   "execution_count": 91,
   "metadata": {},
   "outputs": [],
   "source": [
    "# Helper functions\n",
    "add_missing_period = pipeable(lambda line: line if line.endswith('.') else line + '.' )\n",
    "fix_world_trade = pipeable(lambda line: line.replace('WorldTrade', 'World Trade'))\n",
    "get_line_parts = pipeable(lambda line: line_parts.search(line).groups(default=''))\n",
    "remove_commas = lambda s: s.replace(',', '')\n",
    "# New\n",
    "fix_nyc = pipeable(lambda line: line.replace(', New York City,', ', New York City, N.Y.,'))"
   ]
  },
  {
   "cell_type": "code",
   "execution_count": 92,
   "metadata": {},
   "outputs": [
    {
     "output_type": "execute_result",
     "data": {
      "text/plain": [
       "[]"
      ]
     },
     "metadata": {},
     "execution_count": 92
    }
   ],
   "source": [
    "[(i, l) for i, l in enumerate(prepped_lines) if not line_parts.search(l)]"
   ]
  },
  {
   "cell_type": "code",
   "execution_count": 87,
   "metadata": {},
   "outputs": [
    {
     "output_type": "execute_result",
     "data": {
      "text/plain": [
       "[('Gordon M. Aamoth, Jr.',\n",
       "  ' 32',\n",
       "  \" Sandler O'Neill + Partners,\",\n",
       "  '',\n",
       "  '',\n",
       "  ' World Trade Center',\n",
       "  ''),\n",
       " ('Edelmiro Abad',\n",
       "  ' 54',\n",
       "  ' Brooklyn, N.Y., Fiduciary Trust Company International,',\n",
       "  '',\n",
       "  '',\n",
       "  ' World Trade Center',\n",
       "  ''),\n",
       " ('Marie Rose Abad',\n",
       "  ' 49',\n",
       "  ' Keefe, Bruyette&Woods, Inc.,',\n",
       "  '',\n",
       "  '',\n",
       "  ' World Trade Center',\n",
       "  ''),\n",
       " ('Andrew Anthony Abate',\n",
       "  ' 37',\n",
       "  ' Melville, N.Y., Cantor Fitzgerald,',\n",
       "  '',\n",
       "  '',\n",
       "  ' World Trade Center',\n",
       "  ''),\n",
       " ('Vincent Paul Abate',\n",
       "  ' 40',\n",
       "  ' Brooklyn, N.Y., Cantor Fitzgerald,',\n",
       "  '',\n",
       "  '',\n",
       "  ' World Trade Center',\n",
       "  ''),\n",
       " ('Laurence Christopher Abel',\n",
       "  ' 37',\n",
       "  ' New York City, N.Y., Cantor Fitzgerald,',\n",
       "  '',\n",
       "  '',\n",
       "  ' World Trade Center',\n",
       "  ''),\n",
       " ('Alona Abraham',\n",
       "  ' 30',\n",
       "  ' Ashdod, Israel,',\n",
       "  ' Passenger,',\n",
       "  ' United 175,',\n",
       "  ' World Trade Center',\n",
       "  ''),\n",
       " ('William F. Abrahamson',\n",
       "  ' 55',\n",
       "  ' Westchester County, N.Y., Marsh&McLennan Companies, Inc.,',\n",
       "  '',\n",
       "  '',\n",
       "  ' World Trade Center',\n",
       "  ''),\n",
       " ('Richard Anthony Aceto',\n",
       "  ' 42',\n",
       "  ' Marsh&McLennan Companies, Inc.,',\n",
       "  '',\n",
       "  '',\n",
       "  ' World Trade Center',\n",
       "  ''),\n",
       " ('Heinrich Bernhard Ackermann',\n",
       "  ' 38',\n",
       "  ' Aon Corporation,',\n",
       "  '',\n",
       "  '',\n",
       "  ' World Trade Center',\n",
       "  '')]"
      ]
     },
     "metadata": {},
     "execution_count": 87
    }
   ],
   "source": [
    "split_lines =  (grouped_lines\n",
    "                >> map(add_missing_period)\n",
    "                >> map(fix_world_trade)\n",
    "                >> map(fix_nyc)\n",
    "                >> map(get_line_parts)\n",
    "                )\n",
    "split_lines[:10]"
   ]
  },
  {
   "cell_type": "code",
   "execution_count": 88,
   "metadata": {},
   "outputs": [
    {
     "output_type": "execute_result",
     "data": {
      "text/plain": [
       "['Gordon M. Aamoth Jr.',\n",
       " 'Edelmiro Abad',\n",
       " 'Marie Rose Abad',\n",
       " 'Andrew Anthony Abate',\n",
       " 'Vincent Paul Abate',\n",
       " 'Laurence Christopher Abel',\n",
       " 'Alona Abraham',\n",
       " 'William F. Abrahamson',\n",
       " 'Richard Anthony Aceto',\n",
       " 'Heinrich Bernhard Ackermann']"
      ]
     },
     "metadata": {},
     "execution_count": 88
    }
   ],
   "source": [
    "names =  (split_lines\n",
    "        >> map(get(0))\n",
    "        >> map(remove_commas)\n",
    "        )\n",
    "names[:10]"
   ]
  },
  {
   "cell_type": "code",
   "execution_count": 156,
   "metadata": {},
   "outputs": [
    {
     "output_type": "execute_result",
     "data": {
      "text/plain": [
       "[\" Sandler O'Neill + Partners,\",\n",
       " ' Brooklyn, N.Y., Fiduciary Trust Company International,',\n",
       " ' Keefe, Bruyette&Woods, Inc.,',\n",
       " ' Melville, N.Y., Cantor Fitzgerald,',\n",
       " ' Brooklyn, N.Y., Cantor Fitzgerald,',\n",
       " ' New York City, N.Y., Cantor Fitzgerald,',\n",
       " ' Ashdod, Israel,',\n",
       " ' Westchester County, N.Y., Marsh&McLennan Companies, Inc.,',\n",
       " ' Marsh&McLennan Companies, Inc.,',\n",
       " ' Aon Corporation,',\n",
       " ' Glen Rock, N.J., Cantor Fitzgerald,',\n",
       " '',\n",
       " ' Cantor Fitzgerald,',\n",
       " ' Fuji Bank, Ltd. security,',\n",
       " ' Cantor Fitzgerald,',\n",
       " ' New York City, N.Y., Windows on the World,',\n",
       " ' Bronx, N.Y., New York Metropolitan Transportation Council,',\n",
       " ' New Hyde Park, N.Y., Marsh&McLennan Companies, Inc.,',\n",
       " ' New York City, N.Y., Fred Alger Management, Inc.,',\n",
       " ' Bronx, N.Y., Windows on the World,']"
      ]
     },
     "metadata": {},
     "execution_count": 156
    }
   ],
   "source": [
    "troubling_bit = (grouped_lines\n",
    "                >> map(add_missing_period)\n",
    "                >> map(fix_world_trade)\n",
    "                >> map(fix_nyc)\n",
    "                >> map(get_line_parts)\n",
    "                >> map(get(2))\n",
    "                )\n",
    "troubling_bit[:20]"
   ]
  },
  {
   "cell_type": "markdown",
   "metadata": {},
   "source": [
    "## Adding more states\n",
    "\n",
    "Next, we will start adding start to our pattern, and again looking for additional states/problems.  For example, let's add the `Mass.` and `D.C.` patterns."
   ]
  },
  {
   "cell_type": "code",
   "execution_count": 82,
   "metadata": {},
   "outputs": [
    {
     "output_type": "execute_result",
     "data": {
      "text/plain": [
       "[(' Brooklyn, N.Y., Fiduciary Trust Company International,',\n",
       "  <re.Match object; span=(9, 16), match=', N.Y.,'>),\n",
       " (' Melville, N.Y., Cantor Fitzgerald,',\n",
       "  <re.Match object; span=(9, 16), match=', N.Y.,'>),\n",
       " (' Brooklyn, N.Y., Cantor Fitzgerald,',\n",
       "  <re.Match object; span=(9, 16), match=', N.Y.,'>),\n",
       " (' New York City, N.Y., Cantor Fitzgerald,',\n",
       "  <re.Match object; span=(14, 21), match=', N.Y.,'>),\n",
       " (' Westchester County, N.Y., Marsh&McLennan Companies, Inc.,',\n",
       "  <re.Match object; span=(19, 26), match=', N.Y.,'>),\n",
       " (' Glen Rock, N.J., Cantor Fitzgerald,',\n",
       "  <re.Match object; span=(10, 17), match=', N.J.,'>),\n",
       " (' New York City, N.Y., Windows on the World,',\n",
       "  <re.Match object; span=(14, 21), match=', N.Y.,'>),\n",
       " (' Bronx, N.Y., New York Metropolitan Transportation Council,',\n",
       "  <re.Match object; span=(6, 13), match=', N.Y.,'>),\n",
       " (' New Hyde Park, N.Y., Marsh&McLennan Companies, Inc.,',\n",
       "  <re.Match object; span=(14, 21), match=', N.Y.,'>),\n",
       " (' New York City, N.Y., Fred Alger Management, Inc.,',\n",
       "  <re.Match object; span=(14, 21), match=', N.Y.,'>),\n",
       " (' Bronx, N.Y., Windows on the World,',\n",
       "  <re.Match object; span=(6, 13), match=', N.Y.,'>),\n",
       " (' Manalapan, N.J., Cantor Fitzgerald,',\n",
       "  <re.Match object; span=(10, 17), match=', N.J.,'>),\n",
       " (' Belle Harbor, N.Y., New York City Fire Department,',\n",
       "  <re.Match object; span=(13, 20), match=', N.Y.,'>),\n",
       " (' Port Washington, N.Y., Cantor Fitzgerald,',\n",
       "  <re.Match object; span=(16, 23), match=', N.Y.,'>),\n",
       " (' Hoboken, N.J., Keefe, Bruyette&Woods, Inc.,',\n",
       "  <re.Match object; span=(8, 15), match=', N.J.,'>),\n",
       " (' Huntington, N.Y., New York City Fire Department,',\n",
       "  <re.Match object; span=(11, 18), match=', N.Y.,'>),\n",
       " (' Forest Hills, N.Y., Cantor Fitzgerald,',\n",
       "  <re.Match object; span=(13, 20), match=', N.Y.,'>),\n",
       " (' Brooklyn, N.Y., Windows on the World,',\n",
       "  <re.Match object; span=(9, 16), match=', N.Y.,'>),\n",
       " (' New York City, N.Y., Marsh&McLennan Companies, Inc.,',\n",
       "  <re.Match object; span=(14, 21), match=', N.Y.,'>),\n",
       " (' Westfield, N.J., Cantor Fitzgerald,',\n",
       "  <re.Match object; span=(10, 17), match=', N.J.,'>),\n",
       " (' Staten Island, N.Y., Aon Corporation visitor from Zurich Financial Services,',\n",
       "  <re.Match object; span=(14, 21), match=', N.Y.,'>),\n",
       " (' Emerson, N.J., Aon Corporation,',\n",
       "  <re.Match object; span=(8, 15), match=', N.J.,'>),\n",
       " (' Upper Nyack, N.Y., Marsh&McLennan Companies, Inc.,',\n",
       "  <re.Match object; span=(12, 19), match=', N.Y.,'>),\n",
       " (' New York City, N.Y., Risk Waters Group conference attendee from Bloomberg L.P.,',\n",
       "  <re.Match object; span=(14, 21), match=', N.Y.,'>),\n",
       " (' Staten Island, N.Y., Marsh&McLennan Companies, Inc.,',\n",
       "  <re.Match object; span=(14, 21), match=', N.Y.,'>),\n",
       " (' New York City, N.Y., Fred Alger Management, Inc.,',\n",
       "  <re.Match object; span=(14, 21), match=', N.Y.,'>),\n",
       " (' Brooklyn, N.Y., New York State Department of Taxation and Finance,',\n",
       "  <re.Match object; span=(9, 16), match=', N.Y.,'>),\n",
       " (' Brooklyn, N.Y., New York City Fire Department,',\n",
       "  <re.Match object; span=(9, 16), match=', N.Y.,'>),\n",
       " (' Rockaway Beach, N.Y., New York City Fire Department,',\n",
       "  <re.Match object; span=(15, 22), match=', N.Y.,'>),\n",
       " (' Brooklyn, N.Y., Marsh&McLennan Companies, Inc.,',\n",
       "  <re.Match object; span=(9, 16), match=', N.Y.,'>)]"
      ]
     },
     "metadata": {},
     "execution_count": 82
    }
   ],
   "source": [
    "state = re.compile(', (N\\.Y\\.|N\\.J\\.|Mass\\.|D\\.C\\.),?')\n",
    "[(l, state.search(l)) for l in troubling_bit if state.search(l)][0:30]"
   ]
  },
  {
   "cell_type": "code",
   "execution_count": 81,
   "metadata": {},
   "outputs": [
    {
     "output_type": "execute_result",
     "data": {
      "text/plain": [
       "[(0, \" Sandler O'Neill + Partners,\"),\n",
       " (2, ' Keefe, Bruyette&Woods, Inc.,'),\n",
       " (6, ' Ashdod, Israel,'),\n",
       " (8, ' Marsh&McLennan Companies, Inc.,'),\n",
       " (9, ' Aon Corporation,'),\n",
       " (11, ''),\n",
       " (12, ' Cantor Fitzgerald,'),\n",
       " (13, ' Fuji Bank, Ltd. security,'),\n",
       " (14, ' Cantor Fitzgerald,'),\n",
       " (20, ' Cantor Fitzgerald,'),\n",
       " (22, ' Windows on the World,'),\n",
       " (23, ' Cantor Fitzgerald,'),\n",
       " (24, ' Fiduciary Trust Company International,'),\n",
       " (32, ' Marsh&McLennan consultant,'),\n",
       " (33, ' Summit Security Services, Inc.,'),\n",
       " (43, ' Cantor Fitzgerald,'),\n",
       " (45, ' Cantor Fitzgerald,'),\n",
       " (51, ' Cantor Fitzgerald, Forte Food Service,'),\n",
       " (52, ' Windows on the World,'),\n",
       " (54, ' Windows on the World,'),\n",
       " (55, ' Marsh&McLennan Companies, Inc.,'),\n",
       " (56, ' Fiduciary Trust Company International,'),\n",
       " (57, ' ABM Industries Inc.,'),\n",
       " (58, ' New York City Fire Department,'),\n",
       " (59, ' Port Authority of New York and New Jersey first responders,'),\n",
       " (61, ' Port Authority Police Department,'),\n",
       " (69, ' Cantor Fitzgerald,'),\n",
       " (71, ' Marsh&McLennan Companies, Inc.,'),\n",
       " (84, ' New York City Fire Department,'),\n",
       " (94, ' New York State Department of Taxation and Finance,')]"
      ]
     },
     "metadata": {},
     "execution_count": 81
    }
   ],
   "source": [
    "[(i, l) for i, l in enumerate(troubling_bit) if not state.search(l)]"
   ]
  },
  {
   "cell_type": "markdown",
   "metadata": {},
   "source": [
    "<h2> <font color=\"red\"> Exercise 4.6.2 - Continue the process. </font> </h2>\n",
    "\n",
    "Now it is your turn.  You should\n",
    "\n",
    "1. Keep adding states to the pattern.\n",
    "2. Add preprocessing steps to fix any issues."
   ]
  },
  {
   "cell_type": "code",
   "execution_count": 99,
   "metadata": {},
   "outputs": [
    {
     "output_type": "execute_result",
     "data": {
      "text/plain": [
       "[(0, \" Sandler O'Neill + Partners,\"),\n",
       " (2, ' Keefe, Bruyette&Woods, Inc.,'),\n",
       " (6, ' Ashdod, Israel,'),\n",
       " (8, ' Marsh&McLennan Companies, Inc.,'),\n",
       " (9, ' Aon Corporation,'),\n",
       " (11, ''),\n",
       " (12, ' Cantor Fitzgerald,'),\n",
       " (13, ' Fuji Bank, Ltd. security,'),\n",
       " (14, ' Cantor Fitzgerald,'),\n",
       " (20, ' Cantor Fitzgerald,'),\n",
       " (22, ' Windows on the World,'),\n",
       " (23, ' Cantor Fitzgerald,'),\n",
       " (24, ' Fiduciary Trust Company International,'),\n",
       " (29, ' New Jersey, New York State Department of Taxation and Finance,'),\n",
       " (32, ' Marsh&McLennan consultant,'),\n",
       " (33, ' Summit Security Services, Inc.,'),\n",
       " (43, ' Cantor Fitzgerald,'),\n",
       " (45, ' Cantor Fitzgerald,'),\n",
       " (51, ' Cantor Fitzgerald, Forte Food Service,'),\n",
       " (52, ' Windows on the World,'),\n",
       " (54, ' Windows on the World,'),\n",
       " (55, ' Marsh&McLennan Companies, Inc.,'),\n",
       " (56, ' Fiduciary Trust Company International,'),\n",
       " (57, ' ABM Industries Inc.,'),\n",
       " (58, ' New York City Fire Department,'),\n",
       " (59, ' Port Authority of New York and New Jersey first responders,'),\n",
       " (61, ' Port Authority Police Department,'),\n",
       " (69, ' Cantor Fitzgerald,'),\n",
       " (71, ' Marsh&McLennan Companies, Inc.,'),\n",
       " (74, ' Providence, R.I.,'),\n",
       " (79, ' Los Angeles, Calif.,'),\n",
       " (84, ' New York City Fire Department,'),\n",
       " (85, ' New Jersey, Aon Corporation,'),\n",
       " (94, ' New York State Department of Taxation and Finance,'),\n",
       " (103, ' ABM Industries Inc.,'),\n",
       " (106, ' Windows on the World,'),\n",
       " (107, ' Port Authority of New York and New Jersey,'),\n",
       " (115, ' Marsh&McLennan consultant,'),\n",
       " (116, ' Marsh&McLennan Companies, Inc.,'),\n",
       " (118, ' Marsh&McLennan Companies, Inc.,'),\n",
       " (119, ' Marsh&McLennan Companies, Inc.,'),\n",
       " (127, ' Cantor Fitzgerald,'),\n",
       " (128, ' Cantor Fitzgerald visitor,'),\n",
       " (130, ' Virginia, United States Navy,'),\n",
       " (131, ' Aon Corporation,'),\n",
       " (133, ' Cantor Fitzgerald,'),\n",
       " (142, ' Risk Waters Group conference attendee from BEA Systems, Inc.,'),\n",
       " (146, ' Windows on the World,'),\n",
       " (149, ' Lee Hecht Harrison,'),\n",
       " (151, ' Essex, England, United Kingdom, Risk Waters Group,')]"
      ]
     },
     "metadata": {},
     "execution_count": 99
    }
   ],
   "source": [
    "state = re.compile(',\\s(N\\.Y\\.|N\\.J\\.|New\\sJersey|Mass\\.|D\\.C\\.|DC|Ill\\.|N\\.M\\.|NM|New Mexico|Va|Va\\.|Virginia),?')\n",
    "\n",
    "\n",
    "[(i, l) for i, l in enumerate(troubling_bit) if not state.search(l)][0:50]"
   ]
  },
  {
   "cell_type": "code",
   "execution_count": 157,
   "metadata": {},
   "outputs": [
    {
     "output_type": "execute_result",
     "data": {
      "text/plain": [
       "645"
      ]
     },
     "metadata": {},
     "execution_count": 157
    }
   ],
   "source": [
    "#if I saw a State, i did all variations I could think of for that state\n",
    "\n",
    "state = re.compile(',?\\s(N\\.Y\\.|New\\sYork|NY|N\\.J\\.|New\\sJersey|NJ|Mass\\.|D\\.C\\.|DC|Ill\\.|N\\.M\\.|NM|New Mexico|Va|V\\.A\\.|Va\\.|Virginia|NC|N\\.C\\.|North Carolina|Md|Maryland|M\\.D\\.|Mary\\.|G\\.A\\.|GA|Georgia|Atlanta,\\sGA|I\\.A\\.|IA|Iowa|Mass|Mass.|MA|M\\.A\\.|California|Calif\\.|CA|C\\.A\\.|Arizona|Ariz\\.|AZ|A\\.Z\\.|Maine|ME|M\\.E\\.|Ohio|OH|O\\.H\\.|Rhode Island|R\\.I\\.|RI|Florida|Fla\\.|FL|F\\.L\\.|Ill\\.|Illinois|I\\.A\\.|New\\sHampshire|NH|N\\.H\\.|Pennsylvania|Pa\\.|PA|P\\.A\\.|Hawaii|HI|H\\.I\\.|Louisiana|LA|L\\.A\\.|La\\.|Texas|TX|T\\.X\\.|Connecticut|CA|C\\.A\\.|Conn\\.|Utah|UT|U\\.T\\.|Germany|Israel|Manitoba,\\sCanada|Canada|New\\sSouth\\sWales,\\sAustralia|Australia|U\\.K\\.|England|England,\\sUnited\\sKingdom|India|Japan),?')\n",
    "\n",
    "\n",
    "len([(i, l) for i, l in enumerate(troubling_bit) if not state.search(l)]) \n",
    "\n",
    "#from here, it appears that the rest of the answers are missing this field, this will be dealth with up ahead\n",
    "#when we split the data\n"
   ]
  },
  {
   "cell_type": "code",
   "execution_count": 158,
   "metadata": {},
   "outputs": [
    {
     "output_type": "execute_result",
     "data": {
      "text/plain": [
       "[(0, \" Sandler O'Neill + Partners,\"),\n",
       " (2, ' Keefe, Bruyette&Woods, Inc.,'),\n",
       " (8, ' Marsh&McLennan Companies, Inc.,'),\n",
       " (9, ' Aon Corporation,'),\n",
       " (11, ''),\n",
       " (12, ' Cantor Fitzgerald,'),\n",
       " (13, ' Fuji Bank, Ltd. security,'),\n",
       " (14, ' Cantor Fitzgerald,'),\n",
       " (20, ' Cantor Fitzgerald,'),\n",
       " (22, ' Windows on the World,')]"
      ]
     },
     "metadata": {},
     "execution_count": 158
    }
   ],
   "source": [
    "[(i, l) for i, l in enumerate(troubling_bit) if not state.search(l)][0:10] "
   ]
  },
  {
   "cell_type": "markdown",
   "metadata": {},
   "source": [
    "<h2> <font color=\"red\"> Exercise 4.6.3 - Make your solution verbose </font> </h2>\n",
    "\n",
    "Now make your solution to the last problem verbose.  Also reorder the cases so that similar cases are close and add comments.  Finally, change the regular expression to capture the parts before and after the state."
   ]
  },
  {
   "cell_type": "code",
   "execution_count": 162,
   "metadata": {},
   "outputs": [
    {
     "output_type": "execute_result",
     "data": {
      "text/plain": [
       "[(1, ' Brooklyn, N.Y., Fiduciary Trust Company International,'),\n",
       " (3, ' Melville, N.Y., Cantor Fitzgerald,'),\n",
       " (4, ' Brooklyn, N.Y., Cantor Fitzgerald,'),\n",
       " (5, ' New York City, N.Y., Cantor Fitzgerald,'),\n",
       " (6, ' Ashdod, Israel,'),\n",
       " (7, ' Westchester County, N.Y., Marsh&McLennan Companies, Inc.,'),\n",
       " (10, ' Glen Rock, N.J., Cantor Fitzgerald,'),\n",
       " (15, ' New York City, N.Y., Windows on the World,'),\n",
       " (16, ' Bronx, N.Y., New York Metropolitan Transportation Council,'),\n",
       " (17, ' New Hyde Park, N.Y., Marsh&McLennan Companies, Inc.,'),\n",
       " (18, ' New York City, N.Y., Fred Alger Management, Inc.,'),\n",
       " (19, ' Bronx, N.Y., Windows on the World,'),\n",
       " (21, ' Manalapan, N.J., Cantor Fitzgerald,'),\n",
       " (25, ' Belle Harbor, N.Y., New York City Fire Department,'),\n",
       " (26, ' Port Washington, N.Y., Cantor Fitzgerald,'),\n",
       " (27, ' Hoboken, N.J., Keefe, Bruyette&Woods, Inc.,'),\n",
       " (28, ' Huntington, N.Y., New York City Fire Department,'),\n",
       " (29, ' New Jersey, New York State Department of Taxation and Finance,'),\n",
       " (30, ' Forest Hills, N.Y., Cantor Fitzgerald,'),\n",
       " (31, ' Brooklyn, N.Y., Windows on the World,'),\n",
       " (34, ' New York City, N.Y., Marsh&McLennan Companies, Inc.,'),\n",
       " (35, ' Westfield, N.J., Cantor Fitzgerald,'),\n",
       " (36,\n",
       "  ' Staten Island, N.Y., Aon Corporation visitor from Zurich Financial Services,'),\n",
       " (37, ' Emerson, N.J., Aon Corporation,'),\n",
       " (38, ' Upper Nyack, N.Y., Marsh&McLennan Companies, Inc.,'),\n",
       " (39,\n",
       "  ' New York City, N.Y., Risk Waters Group conference attendee from Bloomberg L.P.,'),\n",
       " (40, ' Staten Island, N.Y., Marsh&McLennan Companies, Inc.,'),\n",
       " (41, ' New York City, N.Y., Fred Alger Management, Inc.,'),\n",
       " (42, ' Brooklyn, N.Y., New York State Department of Taxation and Finance,'),\n",
       " (44, ' Brooklyn, N.Y., New York City Fire Department,'),\n",
       " (46, ' Rockaway Beach, N.Y., New York City Fire Department,'),\n",
       " (47, ' Brooklyn, N.Y., Marsh&McLennan Companies, Inc.,'),\n",
       " (48, ' River Edge, N.J., Cantor Fitzgerald,'),\n",
       " (49, ' Stoneham, Mass.,'),\n",
       " (50, ' Stony Point, N.Y., Marsh&McLennan Companies, Inc.,'),\n",
       " (53, ' Queens, N.Y., Marsh&McLennan Companies, Inc.,'),\n",
       " (60, ' Washington, D.C., Passenger, American 77,'),\n",
       " (62, ' Fort Belvoir, Va., United States Army,'),\n",
       " (63, ' Scarsdale, N.Y., Nishi-Nippon Bank, Ltd.,'),\n",
       " (64, ' Suffern, N.Y., New York City Fire Department,'),\n",
       " (65, \" New York City, N.Y., Sandler O'Neill + Partners,\"),\n",
       " (66, ' Green Brook, N.J., Marsh&McLennan Companies, Inc.,'),\n",
       " (67,\n",
       "  ' New York City, N.Y., New York State Department of Taxation and Finance,'),\n",
       " (68, ' Brooklyn, N.Y., Fuji Bank, Ltd.,'),\n",
       " (70, ' Hoboken, N.J., Port Authority of New York and New Jersey,'),\n",
       " (72, ' Lindenhurst, N.Y., New York City Fire Department,'),\n",
       " (73, ' Lindenhurst, N.Y., New York City Fire Department,'),\n",
       " (74, ' Providence, R.I.,'),\n",
       " (75, ' Cape Cod, Mass. and Pasadena, Calif.,'),\n",
       " (76, ' Staten Island, N.Y., Cantor Fitzgerald,')]"
      ]
     },
     "metadata": {},
     "execution_count": 162
    }
   ],
   "source": [
    "\n",
    "#in the future, i'll refrain from adding in additional details I assume may get hits based on what\n",
    "#already did, as the following below is likely way more complicated then it needs to be\n",
    "\n",
    "state = re.compile('''\n",
    "^(.*?),?\\s #grab the front bit and the possible comma\n",
    "\n",
    "(                   #variations of the state, with all needed ones a possibly a few extra\n",
    "    N\\.Y\\.|         #NY \n",
    "    New\\sYork|\n",
    "    NY|\n",
    "    N\\.J\\.|\n",
    "    \n",
    "    New\\sJersey|    #NJ\n",
    "    NJ|\n",
    "\n",
    "    D\\.C\\.|         #DC\n",
    "    DC|\n",
    "\n",
    "    N\\.M\\.|         #NM\n",
    "    NM|\n",
    "    New Mexico|\n",
    "    \n",
    "    Va|             #VA\n",
    "    V\\.A\\.|\n",
    "    Va\\.|\n",
    "    Virginia|\n",
    "\n",
    "    NC|             #NC\n",
    "    N\\.C\\.|\n",
    "    North Carolina|\n",
    "    \n",
    "    Md|             #MD\n",
    "    Maryland|\n",
    "    M\\.D\\.|\n",
    "    Mary\\.|\n",
    "    MD|\n",
    "\n",
    "    G\\.A\\.|         #GA\n",
    "    GA|\n",
    "    Georgia|\n",
    "    Atlanta,\\sGA|\n",
    "    \n",
    "    I\\.A\\.|         #IA\n",
    "    IA|\n",
    "    Iowa|\n",
    "    \n",
    "    Mass|           #MA, here odd patterns like Mass. show up fairly often\n",
    "    Mass.|\n",
    "    MA|\n",
    "    M\\.A\\.|\n",
    "    \n",
    "    California|     #CA\n",
    "    Calif\\.|\n",
    "    CA|\n",
    "    C\\.A\\.|\n",
    "    \n",
    "    Arizona|        #AZ\n",
    "    Ariz\\.|\n",
    "    AZ|\n",
    "    A\\.Z\\.|\n",
    "    \n",
    "    Maine|          #ME\n",
    "    ME|\n",
    "    M\\.E\\.|\n",
    "    \n",
    "    Ohio|           O#H\n",
    "    OH|\n",
    "    O\\.H\\.|\n",
    "    \n",
    "    Rhode Island|   #RI\n",
    "    R\\.I\\.|\n",
    "    RI|\n",
    "    \n",
    "    Florida|        #FL\n",
    "    Fla\\.|\n",
    "    FL|\n",
    "    F\\.L\\.|\n",
    "    \n",
    "    Ill\\.|          #IL\n",
    "    Illinois|\n",
    "    I\\.A\\.|\n",
    "\n",
    "    New\\sHampshire| #NH \n",
    "    NH|\n",
    "    N\\.H\\.|\n",
    "\n",
    "    Pennsylvania|   #PA\n",
    "    Pa\\.|\n",
    "    PA|\n",
    "    P\\.A\\.|\n",
    "    \n",
    "    Hawaii|         #HI\n",
    "    HI|\n",
    "    H\\.I\\.|\n",
    "    \n",
    "    Louisiana|      #LA\n",
    "    LA|\n",
    "    L\\.A\\.|\n",
    "    La\\.|\n",
    "    \n",
    "    Texas|          #TX\n",
    "    TX|\n",
    "    T\\.X\\.|\n",
    "    \n",
    "    Connecticut|    #CA\n",
    "    CA|\n",
    "    C\\.A\\.|\n",
    "    Conn\\.|\n",
    "    \n",
    "    Utah|           #UT\n",
    "    UT|\n",
    "    U\\.T\\.|\n",
    "    \n",
    "                    #these are misc. including other countries and odd variations\n",
    "    Germany|\n",
    "    Israel|\n",
    "    Manitoba,\\sCanada|\n",
    "    Canada|\n",
    "    New\\sSouth\\sWales,\\sAustralia|\n",
    "    Australia|\n",
    "    U\\.K\\.|\n",
    "    England|\n",
    "    England,\\sUnited\\sKingdom|\n",
    "    India|\n",
    "    Japan\n",
    "    \n",
    ")\n",
    "\n",
    "\n",
    "\n",
    ",\n",
    "(.*?)$\n",
    "''', re.VERBOSE)\n",
    "\n",
    "[(i, l) for i, l in enumerate(troubling_bit) if state.search(l)][0:50] #works whenever there is a state\n"
   ]
  },
  {
   "cell_type": "markdown",
   "metadata": {},
   "source": [
    "## Splitting the troubling bit\n",
    "\n",
    "Now that we have a way to identify rows that have home addresses (through matching the state), we will split up this data.  We will do this by considering three cases.\n",
    "\n",
    "1. Blank entry become three blanks (for town, state, employer).\n",
    "2. Lines that match the states regex will get split by this pattern.\n",
    "3. The remaining lines hold only the employer and become `'','',entry`"
   ]
  },
  {
   "cell_type": "code",
   "execution_count": 163,
   "metadata": {},
   "outputs": [],
   "source": [
    "def split_troubling_bit(entry):\n",
    "    if len(entry) == 0:\n",
    "        return ('', '', '')\n",
    "    elif state.search(entry):\n",
    "        return state.search(entry).groups(default='')\n",
    "    else:\n",
    "        return ('', '', entry)"
   ]
  },
  {
   "cell_type": "code",
   "execution_count": 164,
   "metadata": {},
   "outputs": [
    {
     "output_type": "execute_result",
     "data": {
      "text/plain": [
       "[('', '', \" Sandler O'Neill + Partners,\"),\n",
       " (' Brooklyn', 'N.Y.', ' Fiduciary Trust Company International,'),\n",
       " ('', '', ' Keefe, Bruyette&Woods, Inc.,'),\n",
       " (' Melville', 'N.Y.', ' Cantor Fitzgerald,'),\n",
       " (' Brooklyn', 'N.Y.', ' Cantor Fitzgerald,'),\n",
       " (' New York City', 'N.Y.', ' Cantor Fitzgerald,'),\n",
       " (' Ashdod', 'Israel', ''),\n",
       " (' Westchester County', 'N.Y.', ' Marsh&McLennan Companies, Inc.,'),\n",
       " ('', '', ' Marsh&McLennan Companies, Inc.,'),\n",
       " ('', '', ' Aon Corporation,'),\n",
       " (' Glen Rock', 'N.J.', ' Cantor Fitzgerald,'),\n",
       " ('', '', ''),\n",
       " ('', '', ' Cantor Fitzgerald,'),\n",
       " ('', '', ' Fuji Bank, Ltd. security,'),\n",
       " ('', '', ' Cantor Fitzgerald,'),\n",
       " (' New York City', 'N.Y.', ' Windows on the World,'),\n",
       " (' Bronx', 'N.Y.', ' New York Metropolitan Transportation Council,'),\n",
       " (' New Hyde Park', 'N.Y.', ' Marsh&McLennan Companies, Inc.,'),\n",
       " (' New York City', 'N.Y.', ' Fred Alger Management, Inc.,'),\n",
       " (' Bronx', 'N.Y.', ' Windows on the World,'),\n",
       " ('', '', ' Cantor Fitzgerald,'),\n",
       " (' Manalapan', 'N.J.', ' Cantor Fitzgerald,'),\n",
       " ('', '', ' Windows on the World,'),\n",
       " ('', '', ' Cantor Fitzgerald,'),\n",
       " ('', '', ' Fiduciary Trust Company International,'),\n",
       " (' Belle Harbor', 'N.Y.', ' New York City Fire Department,'),\n",
       " (' Port Washington', 'N.Y.', ' Cantor Fitzgerald,'),\n",
       " (' Hoboken', 'N.J.', ' Keefe, Bruyette&Woods, Inc.,'),\n",
       " (' Huntington', 'N.Y.', ' New York City Fire Department,'),\n",
       " ('', 'New Jersey', ' New York State Department of Taxation and Finance,')]"
      ]
     },
     "metadata": {},
     "execution_count": 164
    }
   ],
   "source": [
    "( troubling_bit\n",
    " >> map(split_troubling_bit)\n",
    ")[0:30]"
   ]
  },
  {
   "cell_type": "markdown",
   "metadata": {},
   "source": [
    "## Progress so far"
   ]
  },
  {
   "cell_type": "code",
   "execution_count": 165,
   "metadata": {},
   "outputs": [],
   "source": [
    "# Imports\n",
    "from composable import pipeable\n",
    "from composable.strict import map"
   ]
  },
  {
   "cell_type": "code",
   "execution_count": 166,
   "metadata": {},
   "outputs": [],
   "source": [
    "# Reg Ex for a line\n",
    "line_parts = re.compile(r'''^(.+),\n",
    "(\n",
    "      \\s\\?\\?                          # ??\n",
    "    | \\s\\d{1,3}                       # or age\n",
    "),\n",
    "(.*?)                                 # Includes hometown and \n",
    "(\n",
    "        \\sPassenger,                  # Optional flight status\n",
    "    |   \\sFlightsCrew,\n",
    ")?\n",
    "(\n",
    "      \\sUnited\\s\\d{2,3},              # Optional flight\n",
    "    | \\sAmericans\\d{2,3},\n",
    ")?\n",
    "(\n",
    "       \\sWorld\\sTrade\\sCenter         # Location\n",
    "    |  \\sPentagon\n",
    "    |  \\sShanksville,\\sPa\n",
    ")\n",
    "(\n",
    "    ,\\sdied\\s\\d{1,2}/\\d{1,2}/\\d{1,2}  # Optional date of death\n",
    ")?\n",
    "\\.$''', re.VERBOSE)"
   ]
  },
  {
   "cell_type": "code",
   "execution_count": 167,
   "metadata": {},
   "outputs": [],
   "source": [
    "# Helper functions\n",
    "add_missing_period = pipeable(lambda line: line if line.endswith('.') else line + '.' )\n",
    "fix_world_trade = pipeable(lambda line: line.replace('WorldTrade', 'World Trade'))\n",
    "get_line_parts = pipeable(lambda line: line_parts.search(line).groups(default=''))\n",
    "remove_commas = lambda s: s.replace(',', '')\n",
    "# New\n",
    "fix_nyc = pipeable(lambda line: line.replace(', New York City,', ', New York City, N.Y.,'))"
   ]
  },
  {
   "cell_type": "code",
   "execution_count": 53,
   "metadata": {},
   "outputs": [
    {
     "output_type": "execute_result",
     "data": {
      "text/plain": [
       "[]"
      ]
     },
     "metadata": {},
     "execution_count": 53
    }
   ],
   "source": [
    "[(i, l) for i, l in enumerate(prepped_lines) if not line_parts.search(l)]"
   ]
  },
  {
   "cell_type": "code",
   "execution_count": 168,
   "metadata": {},
   "outputs": [
    {
     "output_type": "execute_result",
     "data": {
      "text/plain": [
       "[('Gordon M. Aamoth, Jr.',\n",
       "  ' 32',\n",
       "  \" Sandler O'Neill + Partners,\",\n",
       "  '',\n",
       "  '',\n",
       "  ' World Trade Center',\n",
       "  ''),\n",
       " ('Edelmiro Abad',\n",
       "  ' 54',\n",
       "  ' Brooklyn, N.Y., Fiduciary Trust Company International,',\n",
       "  '',\n",
       "  '',\n",
       "  ' World Trade Center',\n",
       "  ''),\n",
       " ('Marie Rose Abad',\n",
       "  ' 49',\n",
       "  ' Keefe, Bruyette&Woods, Inc.,',\n",
       "  '',\n",
       "  '',\n",
       "  ' World Trade Center',\n",
       "  ''),\n",
       " ('Andrew Anthony Abate',\n",
       "  ' 37',\n",
       "  ' Melville, N.Y., Cantor Fitzgerald,',\n",
       "  '',\n",
       "  '',\n",
       "  ' World Trade Center',\n",
       "  ''),\n",
       " ('Vincent Paul Abate',\n",
       "  ' 40',\n",
       "  ' Brooklyn, N.Y., Cantor Fitzgerald,',\n",
       "  '',\n",
       "  '',\n",
       "  ' World Trade Center',\n",
       "  ''),\n",
       " ('Laurence Christopher Abel',\n",
       "  ' 37',\n",
       "  ' New York City, N.Y., Cantor Fitzgerald,',\n",
       "  '',\n",
       "  '',\n",
       "  ' World Trade Center',\n",
       "  ''),\n",
       " ('Alona Abraham',\n",
       "  ' 30',\n",
       "  ' Ashdod, Israel,',\n",
       "  ' Passenger,',\n",
       "  ' United 175,',\n",
       "  ' World Trade Center',\n",
       "  ''),\n",
       " ('William F. Abrahamson',\n",
       "  ' 55',\n",
       "  ' Westchester County, N.Y., Marsh&McLennan Companies, Inc.,',\n",
       "  '',\n",
       "  '',\n",
       "  ' World Trade Center',\n",
       "  ''),\n",
       " ('Richard Anthony Aceto',\n",
       "  ' 42',\n",
       "  ' Marsh&McLennan Companies, Inc.,',\n",
       "  '',\n",
       "  '',\n",
       "  ' World Trade Center',\n",
       "  ''),\n",
       " ('Heinrich Bernhard Ackermann',\n",
       "  ' 38',\n",
       "  ' Aon Corporation,',\n",
       "  '',\n",
       "  '',\n",
       "  ' World Trade Center',\n",
       "  '')]"
      ]
     },
     "metadata": {},
     "execution_count": 168
    }
   ],
   "source": [
    "split_lines =  (grouped_lines\n",
    "                >> map(add_missing_period)\n",
    "                >> map(fix_world_trade)\n",
    "                >> map(fix_nyc)\n",
    "                >> map(get_line_parts)\n",
    "                )\n",
    "split_lines[0:10]"
   ]
  },
  {
   "cell_type": "code",
   "execution_count": 169,
   "metadata": {},
   "outputs": [
    {
     "output_type": "execute_result",
     "data": {
      "text/plain": [
       "['Gordon M. Aamoth Jr.',\n",
       " 'Edelmiro Abad',\n",
       " 'Marie Rose Abad',\n",
       " 'Andrew Anthony Abate',\n",
       " 'Vincent Paul Abate',\n",
       " 'Laurence Christopher Abel',\n",
       " 'Alona Abraham',\n",
       " 'William F. Abrahamson',\n",
       " 'Richard Anthony Aceto',\n",
       " 'Heinrich Bernhard Ackermann',\n",
       " 'Paul Acquaviva',\n",
       " 'Christian Adams',\n",
       " 'Donald LaRoy Adams',\n",
       " 'Patrick Adams',\n",
       " 'Shannon Lewis Adams',\n",
       " 'Stephen George Adams',\n",
       " 'Ignatius Udo Adanga',\n",
       " 'Christy A. Addamo',\n",
       " 'Terence Edward Adderley Jr.',\n",
       " 'Sophia B. Addo',\n",
       " 'Lee Adler',\n",
       " 'Daniel Thomas Afflitto',\n",
       " 'Emmanuel Akwasi Afuakwah',\n",
       " 'Alok Agarwal',\n",
       " 'Mukul Kumar Agarwala',\n",
       " 'Joseph Agnello',\n",
       " 'David Scott Agnes',\n",
       " 'Joao Alberto da Fonseca Aguiar Jr.',\n",
       " 'Brian G. Ahearn',\n",
       " 'Jeremiah Joseph Ahern']"
      ]
     },
     "metadata": {},
     "execution_count": 169
    }
   ],
   "source": [
    "names =  (split_lines\n",
    "        >> map(get(0))\n",
    "        >> map(remove_commas)\n",
    "        )\n",
    "names[0:30]"
   ]
  },
  {
   "cell_type": "code",
   "execution_count": 80,
   "metadata": {},
   "outputs": [
    {
     "output_type": "execute_result",
     "data": {
      "text/plain": [
       "[\" Sandler O'Neill + Partners,\",\n",
       " ' Brooklyn, N.Y., Fiduciary Trust Company International,',\n",
       " ' Keefe, Bruyette&Woods, Inc.,',\n",
       " ' Melville, N.Y., Cantor Fitzgerald,',\n",
       " ' Brooklyn, N.Y., Cantor Fitzgerald,',\n",
       " ' New York City, N.Y., Cantor Fitzgerald,',\n",
       " ' Ashdod, Israel,',\n",
       " ' Westchester County, N.Y., Marsh&McLennan Companies, Inc.,',\n",
       " ' Marsh&McLennan Companies, Inc.,',\n",
       " ' Aon Corporation,',\n",
       " ' Glen Rock, N.J., Cantor Fitzgerald,',\n",
       " '',\n",
       " ' Cantor Fitzgerald,',\n",
       " ' Fuji Bank, Ltd. security,',\n",
       " ' Cantor Fitzgerald,',\n",
       " ' New York City, N.Y., Windows on the World,',\n",
       " ' Bronx, N.Y., New York Metropolitan Transportation Council,',\n",
       " ' New Hyde Park, N.Y., Marsh&McLennan Companies, Inc.,',\n",
       " ' New York City, N.Y., Fred Alger Management, Inc.,',\n",
       " ' Bronx, N.Y., Windows on the World,',\n",
       " ' Cantor Fitzgerald,',\n",
       " ' Manalapan, N.J., Cantor Fitzgerald,',\n",
       " ' Windows on the World,',\n",
       " ' Cantor Fitzgerald,',\n",
       " ' Fiduciary Trust Company International,',\n",
       " ' Belle Harbor, N.Y., New York City Fire Department,',\n",
       " ' Port Washington, N.Y., Cantor Fitzgerald,',\n",
       " ' Hoboken, N.J., Keefe, Bruyette&Woods, Inc.,',\n",
       " ' Huntington, N.Y., New York City Fire Department,',\n",
       " ' New Jersey, New York State Department of Taxation and Finance,']"
      ]
     },
     "metadata": {},
     "execution_count": 80
    }
   ],
   "source": [
    "troubling_bit = (grouped_lines\n",
    "                >> map(add_missing_period)\n",
    "                >> map(fix_world_trade)\n",
    "                >> map(fix_nyc)\n",
    "                >> map(get_line_parts)\n",
    "                >> map(get(2))\n",
    "                )\n",
    "troubling_bit[0:30]"
   ]
  },
  {
   "cell_type": "code",
   "execution_count": 170,
   "metadata": {},
   "outputs": [],
   "source": [
    "state = re.compile('''\n",
    "^(.*?)\n",
    ",?\\s                    # Optional comman\n",
    "(\n",
    "       N\\.Y\\.           \n",
    "    |  N\\.J\\.\n",
    "    |  D\\.C\\.\n",
    "    |  N\\.H\\.\n",
    "    |  N\\.M\\.\n",
    "    |  N\\.C\\.\n",
    "    |  R.I.\n",
    "    |  Md\\.\n",
    "    |  Pa\\.\n",
    "    |  Va\\.\n",
    "    |  Ga\\.\n",
    "    |  La\\.\n",
    "    |  Mass\\.\n",
    "    |  Calif\\.\n",
    "    |  Ariz\\.\n",
    "    |  Fla\\.\n",
    "    |  Ill\\.\n",
    "    |  Conn\\.\n",
    "    |  Hawaii\n",
    "    |  Iowa\n",
    "    |  Maine\n",
    "    |  New\\sHampshire\n",
    "    |  New\\sJersey\n",
    "    |  New\\sYork\n",
    "    |  Ohio\n",
    "    |  Pennsylvania\n",
    "    |  Texas\n",
    "    |  Utah\n",
    "    |  Virginia\n",
    "    |  Japan\n",
    "    |  India\n",
    "    |  Germany\n",
    "    |  Manitoba,\\sCanada\n",
    "    |  New\\sSouth\\sWales,\\sAustralia\n",
    "    |  England,\\sUnited\\sKingdom\n",
    ")\n",
    ",\n",
    "(.*?)$\n",
    "''', re.VERBOSE)"
   ]
  },
  {
   "cell_type": "code",
   "execution_count": 183,
   "metadata": {},
   "outputs": [
    {
     "output_type": "execute_result",
     "data": {
      "text/plain": [
       "[('', '', \" Sandler O'Neill + Partners,\"),\n",
       " (' Brooklyn', 'N.Y.', ' Fiduciary Trust Company International,'),\n",
       " ('', '', ' Keefe, Bruyette&Woods, Inc.,'),\n",
       " (' Melville', 'N.Y.', ' Cantor Fitzgerald,'),\n",
       " (' Brooklyn', 'N.Y.', ' Cantor Fitzgerald,'),\n",
       " (' New York City', 'N.Y.', ' Cantor Fitzgerald,'),\n",
       " ('', '', ' Ashdod, Israel,'),\n",
       " (' Westchester County', 'N.Y.', ' Marsh&McLennan Companies, Inc.,'),\n",
       " ('', '', ' Marsh&McLennan Companies, Inc.,'),\n",
       " ('', '', ' Aon Corporation,'),\n",
       " (' Glen Rock', 'N.J.', ' Cantor Fitzgerald,'),\n",
       " ('', '', ''),\n",
       " ('', '', ' Cantor Fitzgerald,'),\n",
       " ('', '', ' Fuji Bank, Ltd. security,'),\n",
       " ('', '', ' Cantor Fitzgerald,'),\n",
       " (' New York City', 'N.Y.', ' Windows on the World,'),\n",
       " (' Bronx', 'N.Y.', ' New York Metropolitan Transportation Council,'),\n",
       " (' New Hyde Park', 'N.Y.', ' Marsh&McLennan Companies, Inc.,'),\n",
       " (' New York City', 'N.Y.', ' Fred Alger Management, Inc.,'),\n",
       " (' Bronx', 'N.Y.', ' Windows on the World,'),\n",
       " ('', '', ' Cantor Fitzgerald,'),\n",
       " (' Manalapan', 'N.J.', ' Cantor Fitzgerald,'),\n",
       " ('', '', ' Windows on the World,'),\n",
       " ('', '', ' Cantor Fitzgerald,'),\n",
       " ('', '', ' Fiduciary Trust Company International,'),\n",
       " (' Belle Harbor', 'N.Y.', ' New York City Fire Department,'),\n",
       " (' Port Washington', 'N.Y.', ' Cantor Fitzgerald,'),\n",
       " (' Hoboken', 'N.J.', ' Keefe, Bruyette&Woods, Inc.,'),\n",
       " (' Huntington', 'N.Y.', ' New York City Fire Department,'),\n",
       " ('', 'New Jersey', ' New York State Department of Taxation and Finance,')]"
      ]
     },
     "metadata": {},
     "execution_count": 183
    }
   ],
   "source": [
    "Splittb =( troubling_bit\n",
    "            >> map(split_troubling_bit)\n",
    "        )\n",
    "\n",
    "\n",
    "\n",
    "( troubling_bit\n",
    " >> map(split_troubling_bit)\n",
    ")[0:30]"
   ]
  },
  {
   "cell_type": "markdown",
   "metadata": {},
   "source": [
    "<h2> <font color=\"red\"> Exercise 4.5.4 </font> </h2>\n",
    "\n",
    "Clean up each part of the troubling bits, then comma join this section into 1 string.\n",
    "\n",
    "**Hint:** Be sure to remove any problematic commas."
   ]
  },
  {
   "cell_type": "code",
   "execution_count": 175,
   "metadata": {},
   "outputs": [],
   "source": [
    "#moved down here for convienance\n",
    "\n",
    "remove_commas = lambda s: s.replace(',', '')\n",
    "remove_periods = lambda s: s.replace('.', '')\n",
    "remove_quest_mark = lambda s: s.replace('??', '')\n",
    "replace_blank_death = lambda s: '9/11/2001' if s == '' else s\n",
    "replace_01 = lambda s: s.replace('01', '2001')\n",
    "Strip_spaces = lambda s: s.strip()"
   ]
  },
  {
   "cell_type": "code",
   "execution_count": 184,
   "metadata": {},
   "outputs": [
    {
     "output_type": "execute_result",
     "data": {
      "text/plain": [
       "['',\n",
       " 'N.Y.',\n",
       " '',\n",
       " 'N.Y.',\n",
       " 'N.Y.',\n",
       " 'N.Y.',\n",
       " '',\n",
       " 'N.Y.',\n",
       " '',\n",
       " '',\n",
       " 'N.J.',\n",
       " '',\n",
       " '',\n",
       " '',\n",
       " '']"
      ]
     },
     "metadata": {},
     "execution_count": 184
    }
   ],
   "source": [
    "#starting with state\n",
    "\n",
    "stateofdeath =  (Splittb\n",
    "        >> map(get(1))\n",
    "        )\n",
    "stateofdeath[0:15]"
   ]
  },
  {
   "cell_type": "code",
   "execution_count": 189,
   "metadata": {},
   "outputs": [
    {
     "output_type": "execute_result",
     "data": {
      "text/plain": [
       "['',\n",
       " 'NY',\n",
       " '',\n",
       " 'NY',\n",
       " 'NY',\n",
       " 'NY',\n",
       " '',\n",
       " 'NY',\n",
       " '',\n",
       " '',\n",
       " 'NJ',\n",
       " '',\n",
       " '',\n",
       " '',\n",
       " '',\n",
       " 'NY',\n",
       " 'NY',\n",
       " 'NY',\n",
       " 'NY',\n",
       " 'NY',\n",
       " '',\n",
       " 'NJ',\n",
       " '',\n",
       " '',\n",
       " '',\n",
       " 'NY',\n",
       " 'NY',\n",
       " 'NJ',\n",
       " 'NY',\n",
       " 'New Jersey',\n",
       " 'NY',\n",
       " 'NY',\n",
       " '',\n",
       " '',\n",
       " 'NY',\n",
       " 'NJ',\n",
       " 'NY',\n",
       " 'NJ',\n",
       " 'NY',\n",
       " 'NY',\n",
       " 'NY',\n",
       " 'NY',\n",
       " 'NY',\n",
       " '',\n",
       " 'NY',\n",
       " '',\n",
       " 'NY',\n",
       " 'NY',\n",
       " 'NJ',\n",
       " 'Mass']"
      ]
     },
     "metadata": {},
     "execution_count": 189
    }
   ],
   "source": [
    "#remove periods, commas, and remove extra whitespace \n",
    "\n",
    "stateofdeath =  (Splittb\n",
    "        >> map(get(1))\n",
    "        >> map(remove_periods)\n",
    "        >> map(remove_commas)\n",
    "        >> map(Strip_spaces)\n",
    "        )\n",
    "stateofdeath[:50] \n",
    "\n",
    "#stateofdeath \n",
    "\n",
    "#looks good, state is ready. Some categories still need evaluations (like Isreal and Japan)\n",
    "#and one may wish to drop the whole data set into openrefine after this is all done to quickly\n",
    "#collapse categories\n"
   ]
  },
  {
   "cell_type": "code",
   "execution_count": 191,
   "metadata": {},
   "outputs": [
    {
     "output_type": "execute_result",
     "data": {
      "text/plain": [
       "['',\n",
       " 'Brooklyn',\n",
       " '',\n",
       " 'Melville',\n",
       " 'Brooklyn',\n",
       " 'New York City',\n",
       " '',\n",
       " 'Westchester County',\n",
       " '',\n",
       " '',\n",
       " 'Glen Rock',\n",
       " '',\n",
       " '',\n",
       " '',\n",
       " '',\n",
       " 'New York City',\n",
       " 'Bronx',\n",
       " 'New Hyde Park',\n",
       " 'New York City',\n",
       " 'Bronx',\n",
       " '',\n",
       " 'Manalapan',\n",
       " '',\n",
       " '',\n",
       " '',\n",
       " 'Belle Harbor',\n",
       " 'Port Washington',\n",
       " 'Hoboken',\n",
       " 'Huntington',\n",
       " '',\n",
       " 'Forest Hills',\n",
       " 'Brooklyn',\n",
       " '',\n",
       " '',\n",
       " 'New York City',\n",
       " 'Westfield',\n",
       " 'Staten Island',\n",
       " 'Emerson',\n",
       " 'Upper Nyack',\n",
       " 'New York City',\n",
       " 'Staten Island',\n",
       " 'New York City',\n",
       " 'Brooklyn',\n",
       " '',\n",
       " 'Brooklyn',\n",
       " '',\n",
       " 'Rockaway Beach',\n",
       " 'Brooklyn',\n",
       " 'River Edge',\n",
       " 'Stoneham']"
      ]
     },
     "metadata": {},
     "execution_count": 191
    }
   ],
   "source": [
    "#Next up is city, which will follow a similar structure\n",
    "\n",
    "cityofdeath =  (Splittb\n",
    "        >> map(get(0))\n",
    "        )\n",
    "cityofdeath[0:15]\n"
   ]
  },
  {
   "cell_type": "code",
   "execution_count": 192,
   "metadata": {},
   "outputs": [
    {
     "output_type": "execute_result",
     "data": {
      "text/plain": [
       "['',\n",
       " 'Brooklyn',\n",
       " '',\n",
       " 'Melville',\n",
       " 'Brooklyn',\n",
       " 'New York City',\n",
       " '',\n",
       " 'Westchester County',\n",
       " '',\n",
       " '',\n",
       " 'Glen Rock',\n",
       " '',\n",
       " '',\n",
       " '',\n",
       " '',\n",
       " 'New York City',\n",
       " 'Bronx',\n",
       " 'New Hyde Park',\n",
       " 'New York City',\n",
       " 'Bronx',\n",
       " '',\n",
       " 'Manalapan',\n",
       " '',\n",
       " '',\n",
       " '',\n",
       " 'Belle Harbor',\n",
       " 'Port Washington',\n",
       " 'Hoboken',\n",
       " 'Huntington',\n",
       " '',\n",
       " 'Forest Hills',\n",
       " 'Brooklyn',\n",
       " '',\n",
       " '',\n",
       " 'New York City',\n",
       " 'Westfield',\n",
       " 'Staten Island',\n",
       " 'Emerson',\n",
       " 'Upper Nyack',\n",
       " 'New York City',\n",
       " 'Staten Island',\n",
       " 'New York City',\n",
       " 'Brooklyn',\n",
       " '',\n",
       " 'Brooklyn',\n",
       " '',\n",
       " 'Rockaway Beach',\n",
       " 'Brooklyn',\n",
       " 'River Edge',\n",
       " 'Stoneham']"
      ]
     },
     "metadata": {},
     "execution_count": 192
    }
   ],
   "source": [
    "#cleaning it will involve all of the same tools\n",
    "\n",
    "\n",
    "cityofdeath =  (Splittb\n",
    "        >> map(get(0))\n",
    "        >> map(remove_periods)\n",
    "        >> map(remove_commas) \n",
    "        >> map(Strip_spaces)\n",
    "        )\n",
    "cityofdeath[0:50] #looks good, but one still should use openrefine to check it after were done"
   ]
  },
  {
   "cell_type": "code",
   "execution_count": 193,
   "metadata": {},
   "outputs": [
    {
     "output_type": "execute_result",
     "data": {
      "text/plain": [
       "[\" Sandler O'Neill + Partners,\",\n",
       " ' Fiduciary Trust Company International,',\n",
       " ' Keefe, Bruyette&Woods, Inc.,',\n",
       " ' Cantor Fitzgerald,',\n",
       " ' Cantor Fitzgerald,',\n",
       " ' Cantor Fitzgerald,',\n",
       " ' Ashdod, Israel,',\n",
       " ' Marsh&McLennan Companies, Inc.,',\n",
       " ' Marsh&McLennan Companies, Inc.,',\n",
       " ' Aon Corporation,',\n",
       " ' Cantor Fitzgerald,',\n",
       " '',\n",
       " ' Cantor Fitzgerald,',\n",
       " ' Fuji Bank, Ltd. security,',\n",
       " ' Cantor Fitzgerald,']"
      ]
     },
     "metadata": {},
     "execution_count": 193
    }
   ],
   "source": [
    "#Finally, we have company at the end\n",
    "\n",
    "\n",
    "company =  (Splittb\n",
    "        >> map(get(2))\n",
    "        )\n",
    "company[0:15]\n"
   ]
  },
  {
   "cell_type": "code",
   "execution_count": 194,
   "metadata": {},
   "outputs": [
    {
     "output_type": "execute_result",
     "data": {
      "text/plain": [
       "[\"Sandler O'Neill + Partners\",\n",
       " 'Fiduciary Trust Company International',\n",
       " 'Keefe Bruyette&Woods Inc',\n",
       " 'Cantor Fitzgerald',\n",
       " 'Cantor Fitzgerald',\n",
       " 'Cantor Fitzgerald',\n",
       " 'Ashdod Israel',\n",
       " 'Marsh&McLennan Companies Inc',\n",
       " 'Marsh&McLennan Companies Inc',\n",
       " 'Aon Corporation',\n",
       " 'Cantor Fitzgerald',\n",
       " '',\n",
       " 'Cantor Fitzgerald',\n",
       " 'Fuji Bank Ltd security',\n",
       " 'Cantor Fitzgerald',\n",
       " 'Windows on the World',\n",
       " 'New York Metropolitan Transportation Council',\n",
       " 'Marsh&McLennan Companies Inc',\n",
       " 'Fred Alger Management Inc',\n",
       " 'Windows on the World',\n",
       " 'Cantor Fitzgerald',\n",
       " 'Cantor Fitzgerald',\n",
       " 'Windows on the World',\n",
       " 'Cantor Fitzgerald',\n",
       " 'Fiduciary Trust Company International',\n",
       " 'New York City Fire Department',\n",
       " 'Cantor Fitzgerald',\n",
       " 'Keefe Bruyette&Woods Inc',\n",
       " 'New York City Fire Department',\n",
       " 'New York State Department of Taxation and Finance',\n",
       " 'Cantor Fitzgerald',\n",
       " 'Windows on the World',\n",
       " 'Marsh&McLennan consultant',\n",
       " 'Summit Security Services Inc',\n",
       " 'Marsh&McLennan Companies Inc',\n",
       " 'Cantor Fitzgerald',\n",
       " 'Aon Corporation visitor from Zurich Financial Services',\n",
       " 'Aon Corporation',\n",
       " 'Marsh&McLennan Companies Inc',\n",
       " 'Risk Waters Group conference attendee from Bloomberg LP',\n",
       " 'Marsh&McLennan Companies Inc',\n",
       " 'Fred Alger Management Inc',\n",
       " 'New York State Department of Taxation and Finance',\n",
       " 'Cantor Fitzgerald',\n",
       " 'New York City Fire Department',\n",
       " 'Cantor Fitzgerald',\n",
       " 'New York City Fire Department',\n",
       " 'Marsh&McLennan Companies Inc',\n",
       " 'Cantor Fitzgerald',\n",
       " '']"
      ]
     },
     "metadata": {},
     "execution_count": 194
    }
   ],
   "source": [
    "#same applications as before\n",
    "\n",
    "company =  (Splittb\n",
    "        >> map(get(2))\n",
    "        >> map(remove_periods)\n",
    "        >> map(remove_commas) \n",
    "        >> map(Strip_spaces)\n",
    "        )\n",
    "company[0:50] #same caveats apply as before\n"
   ]
  },
  {
   "cell_type": "code",
   "execution_count": 200,
   "metadata": {},
   "outputs": [
    {
     "output_type": "execute_result",
     "data": {
      "text/plain": [
       "[('', '', \"Sandler O'Neill + Partners\"),\n",
       " ('Brooklyn', 'NY', 'Fiduciary Trust Company International'),\n",
       " ('', '', 'Keefe Bruyette&Woods Inc'),\n",
       " ('Melville', 'NY', 'Cantor Fitzgerald'),\n",
       " ('Brooklyn', 'NY', 'Cantor Fitzgerald'),\n",
       " ('New York City', 'NY', 'Cantor Fitzgerald'),\n",
       " ('', '', 'Ashdod Israel'),\n",
       " ('Westchester County', 'NY', 'Marsh&McLennan Companies Inc'),\n",
       " ('', '', 'Marsh&McLennan Companies Inc'),\n",
       " ('', '', 'Aon Corporation'),\n",
       " ('Glen Rock', 'NJ', 'Cantor Fitzgerald'),\n",
       " ('', '', ''),\n",
       " ('', '', 'Cantor Fitzgerald'),\n",
       " ('', '', 'Fuji Bank Ltd security'),\n",
       " ('', '', 'Cantor Fitzgerald'),\n",
       " ('New York City', 'NY', 'Windows on the World'),\n",
       " ('Bronx', 'NY', 'New York Metropolitan Transportation Council'),\n",
       " ('New Hyde Park', 'NY', 'Marsh&McLennan Companies Inc'),\n",
       " ('New York City', 'NY', 'Fred Alger Management Inc'),\n",
       " ('Bronx', 'NY', 'Windows on the World'),\n",
       " ('', '', 'Cantor Fitzgerald'),\n",
       " ('Manalapan', 'NJ', 'Cantor Fitzgerald'),\n",
       " ('', '', 'Windows on the World'),\n",
       " ('', '', 'Cantor Fitzgerald'),\n",
       " ('', '', 'Fiduciary Trust Company International'),\n",
       " ('Belle Harbor', 'NY', 'New York City Fire Department'),\n",
       " ('Port Washington', 'NY', 'Cantor Fitzgerald'),\n",
       " ('Hoboken', 'NJ', 'Keefe Bruyette&Woods Inc'),\n",
       " ('Huntington', 'NY', 'New York City Fire Department'),\n",
       " ('', 'New Jersey', 'New York State Department of Taxation and Finance')]"
      ]
     },
     "metadata": {},
     "execution_count": 200
    }
   ],
   "source": [
    "#rejoin all three back together\n",
    "\n",
    "Fixed_tbit = list(zip(cityofdeath,stateofdeath,company)) #zip gets what we want easily\n",
    "\n",
    "Fixed_tbit[:30]"
   ]
  },
  {
   "cell_type": "code",
   "execution_count": 203,
   "metadata": {},
   "outputs": [
    {
     "output_type": "execute_result",
     "data": {
      "text/plain": [
       "[['', '', \"Sandler O'Neill + Partners\"],\n",
       " ['Brooklyn', 'NY', 'Fiduciary Trust Company International'],\n",
       " ['', '', 'Keefe Bruyette&Woods Inc'],\n",
       " ['Melville', 'NY', 'Cantor Fitzgerald'],\n",
       " ['Brooklyn', 'NY', 'Cantor Fitzgerald'],\n",
       " ['New York City', 'NY', 'Cantor Fitzgerald'],\n",
       " ['', '', 'Ashdod Israel'],\n",
       " ['Westchester County', 'NY', 'Marsh&McLennan Companies Inc'],\n",
       " ['', '', 'Marsh&McLennan Companies Inc'],\n",
       " ['', '', 'Aon Corporation'],\n",
       " ['Glen Rock', 'NJ', 'Cantor Fitzgerald'],\n",
       " ['', '', ''],\n",
       " ['', '', 'Cantor Fitzgerald'],\n",
       " ['', '', 'Fuji Bank Ltd security'],\n",
       " ['', '', 'Cantor Fitzgerald'],\n",
       " ['New York City', 'NY', 'Windows on the World'],\n",
       " ['Bronx', 'NY', 'New York Metropolitan Transportation Council'],\n",
       " ['New Hyde Park', 'NY', 'Marsh&McLennan Companies Inc'],\n",
       " ['New York City', 'NY', 'Fred Alger Management Inc'],\n",
       " ['Bronx', 'NY', 'Windows on the World'],\n",
       " ['', '', 'Cantor Fitzgerald'],\n",
       " ['Manalapan', 'NJ', 'Cantor Fitzgerald'],\n",
       " ['', '', 'Windows on the World'],\n",
       " ['', '', 'Cantor Fitzgerald'],\n",
       " ['', '', 'Fiduciary Trust Company International'],\n",
       " ['Belle Harbor', 'NY', 'New York City Fire Department'],\n",
       " ['Port Washington', 'NY', 'Cantor Fitzgerald'],\n",
       " ['Hoboken', 'NJ', 'Keefe Bruyette&Woods Inc'],\n",
       " ['Huntington', 'NY', 'New York City Fire Department'],\n",
       " ['', 'New Jersey', 'New York State Department of Taxation and Finance']]"
      ]
     },
     "metadata": {},
     "execution_count": 203
    }
   ],
   "source": [
    "Fixed_tbit_list = [list(row) for row in zip(cityofdeath, stateofdeath, company)]\n",
    "\n",
    "Fixed_tbit_list[:30] #if having a tuple makes an issue, can also use this list comprehension solution"
   ]
  },
  {
   "cell_type": "markdown",
   "metadata": {},
   "source": [
    "## Combining the parts back together.\n",
    "\n",
    "We can combine the parts back together using the `zip` function."
   ]
  },
  {
   "cell_type": "code",
   "execution_count": 204,
   "metadata": {},
   "outputs": [],
   "source": [
    "fixed_troubling_bits = Fixed_tbit_list"
   ]
  },
  {
   "cell_type": "code",
   "execution_count": 206,
   "metadata": {},
   "outputs": [],
   "source": [
    "from composable.strict import zipOnto\n",
    "from composable.list import to_list\n",
    "#(zip(names, ages, fixed_troubling_bits)\n",
    "# >> to_list\n",
    "# >> map(comma_join)\n",
    "#)"
   ]
  },
  {
   "cell_type": "code",
   "execution_count": 228,
   "metadata": {},
   "outputs": [
    {
     "output_type": "execute_result",
     "data": {
      "text/plain": [
       "[('Gordon M. Aamoth Jr.',\n",
       "  ' 32',\n",
       "  '',\n",
       "  '',\n",
       "  \"Sandler O'Neill + Partners\",\n",
       "  '',\n",
       "  '',\n",
       "  ' World Trade Center',\n",
       "  '9/11/2001'),\n",
       " ('Edelmiro Abad',\n",
       "  ' 54',\n",
       "  'Brooklyn',\n",
       "  'NY',\n",
       "  'Fiduciary Trust Company International',\n",
       "  '',\n",
       "  '',\n",
       "  ' World Trade Center',\n",
       "  '9/11/2001'),\n",
       " ('Marie Rose Abad',\n",
       "  ' 49',\n",
       "  '',\n",
       "  '',\n",
       "  'Keefe Bruyette&Woods Inc',\n",
       "  '',\n",
       "  '',\n",
       "  ' World Trade Center',\n",
       "  '9/11/2001'),\n",
       " ('Andrew Anthony Abate',\n",
       "  ' 37',\n",
       "  'Melville',\n",
       "  'NY',\n",
       "  'Cantor Fitzgerald',\n",
       "  '',\n",
       "  '',\n",
       "  ' World Trade Center',\n",
       "  '9/11/2001'),\n",
       " ('Vincent Paul Abate',\n",
       "  ' 40',\n",
       "  'Brooklyn',\n",
       "  'NY',\n",
       "  'Cantor Fitzgerald',\n",
       "  '',\n",
       "  '',\n",
       "  ' World Trade Center',\n",
       "  '9/11/2001')]"
      ]
     },
     "metadata": {},
     "execution_count": 228
    }
   ],
   "source": [
    "#Fixed_tbit_list = [list(row) for row in zip(names,ages,cityofdeath, stateofdeath, company, passstatus, flight, deathlocation, deathdate)]\n",
    "\n",
    "output = list(zip(names,ages,cityofdeath, stateofdeath, company, passstatus, flight, deathlocation, deathdate))\n",
    "\n",
    "output[:5]\n"
   ]
  },
  {
   "cell_type": "markdown",
   "metadata": {},
   "source": [
    "<h2> <font color=\"red\"> Exercise 4.5.4 </font> </h2>\n",
    "\n",
    "Use `zip` to combine all part of the data and write the result out to a file called `911_Deaths_Fixed.csv` "
   ]
  },
  {
   "cell_type": "code",
   "execution_count": 238,
   "metadata": {},
   "outputs": [
    {
     "output_type": "execute_result",
     "data": {
      "text/plain": [
       "[('Gordon M. Aamoth Jr.',\n",
       "  '32',\n",
       "  '',\n",
       "  '',\n",
       "  \"Sandler O'Neill + Partners\",\n",
       "  '',\n",
       "  '',\n",
       "  'World Trade Center',\n",
       "  '9/11/2001'),\n",
       " ('Edelmiro Abad',\n",
       "  '54',\n",
       "  'Brooklyn',\n",
       "  'NY',\n",
       "  'Fiduciary Trust Company International',\n",
       "  '',\n",
       "  '',\n",
       "  'World Trade Center',\n",
       "  '9/11/2001'),\n",
       " ('Marie Rose Abad',\n",
       "  '49',\n",
       "  '',\n",
       "  '',\n",
       "  'Keefe Bruyette&Woods Inc',\n",
       "  '',\n",
       "  '',\n",
       "  'World Trade Center',\n",
       "  '9/11/2001'),\n",
       " ('Andrew Anthony Abate',\n",
       "  '37',\n",
       "  'Melville',\n",
       "  'NY',\n",
       "  'Cantor Fitzgerald',\n",
       "  '',\n",
       "  '',\n",
       "  'World Trade Center',\n",
       "  '9/11/2001'),\n",
       " ('Vincent Paul Abate',\n",
       "  '40',\n",
       "  'Brooklyn',\n",
       "  'NY',\n",
       "  'Cantor Fitzgerald',\n",
       "  '',\n",
       "  '',\n",
       "  'World Trade Center',\n",
       "  '9/11/2001')]"
      ]
     },
     "metadata": {},
     "execution_count": 238
    }
   ],
   "source": [
    "output = list(zip(names,ages,cityofdeath, stateofdeath, company, passstatus, flight, deathlocation, deathdate))\n",
    "\n",
    "output[:5]"
   ]
  },
  {
   "cell_type": "code",
   "execution_count": 239,
   "metadata": {},
   "outputs": [],
   "source": [
    "import csv\n",
    "\n",
    "\n",
    "#ready for further cleaning\n",
    "with open('911_Deaths_Fixed.csv','w') as out:\n",
    "    csv_out=csv.writer(out)\n",
    "    #csv_out.writerows(output) also works\n",
    "    for row in output:\n",
    "        csv_out.writerow(row)"
   ]
  },
  {
   "cell_type": "code",
   "execution_count": null,
   "metadata": {},
   "outputs": [],
   "source": []
  }
 ],
 "metadata": {
  "kernelspec": {
   "display_name": "Python 3",
   "language": "python",
   "name": "python3"
  },
  "language_info": {
   "codemirror_mode": {
    "name": "ipython",
    "version": 3
   },
   "file_extension": ".py",
   "mimetype": "text/x-python",
   "name": "python",
   "nbconvert_exporter": "python",
   "pygments_lexer": "ipython3",
   "version": "3.7.6-final"
  }
 },
 "nbformat": 4,
 "nbformat_minor": 2
}